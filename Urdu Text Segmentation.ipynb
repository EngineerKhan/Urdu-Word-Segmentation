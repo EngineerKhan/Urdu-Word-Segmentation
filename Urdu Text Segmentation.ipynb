{
 "cells": [
  {
   "cell_type": "code",
   "execution_count": 165,
   "metadata": {
    "collapsed": false
   },
   "outputs": [],
   "source": [
    "import sys\n",
    "import re\n",
    "import glob\n",
    "import codecs\n",
    "import unicodedata\n",
    "import os\n",
    "import wave\n",
    "import contextlib\n",
    "import numpy as np\n",
    "import pycrfsuite\n",
    "from sklearn.metrics import classification_report\n",
    "from random import shuffle"
   ]
  },
  {
   "cell_type": "code",
   "execution_count": 124,
   "metadata": {
    "collapsed": false
   },
   "outputs": [],
   "source": [
    "'''f = codecs.open('train_pos.txt', 'r', encoding='utf-8')\n",
    "p = codecs.open('train_normalized.txt', 'w', encoding='utf-8')\n",
    "for line in f:\n",
    "    line = unicodedata.normalize('NFC',line)\n",
    "    line = re.sub(r\"<[A-Z]{1,}\\${0,}>\", \" \", line)\n",
    "    line = re.sub(r\"-\", \" \", line)\n",
    "    line = re.sub(r\"<\", \" \", line)\n",
    "    line = re.sub(r\">\", \" \", line)\n",
    "    line = re.sub(r\"#\", \" \", line)\n",
    "    line = re.sub(r\"/\", \" \", line)\n",
    "    line = re.sub(r\"\\\\\", \" \", line)\n",
    "    line = re.sub(r\",\", \" \", line)\n",
    "    line = re.sub(u\"،\", \" \", line)\n",
    "    line = re.sub(u\"؛\", \" \", line)\n",
    "    line = re.sub(u\"؟\", \" \", line)\n",
    "    line = re.sub(r\";\", \" \", line)\n",
    "    line = re.sub(r\"\\\"\", \" \", line)\n",
    "    line = re.sub(u\"۔\", \" \", line)\n",
    "    line = re.sub(r\"\\.\", \" \", line)\n",
    "    line = re.sub(r\":\", \" \", line)\n",
    "    line = re.sub(r\"!\", \" \", line)\n",
    "    line = re.sub(r\"\\'\", \" \", line)\n",
    "    line = re.sub(r\"%\", u\"٪\", line)\n",
    "    line = re.sub(u\"ِ\", \"\", line)\n",
    "    line = re.sub(u\"ُ\", \"\", line)\n",
    "    line = re.sub(u\"َ\", \"\", line)\n",
    "    line = re.sub(u\"ْ\", \"\", line)\n",
    "    line = re.sub(u\"ٰ\", \"\", line)\n",
    "    line = re.sub(u\"ً\", \"\", line)\n",
    "    line = re.sub(u\"ّ\", \"\", line)\n",
    "    line = re.sub(u\"\\u200C{2,}\", \" \", line)\n",
    "    line = re.sub(r\"\\s{2,}\", \" \", line)\n",
    "    p.write(line.strip()+'\\n')\n",
    "f.close()\n",
    "p.close()'''"
   ]
  },
  {
   "cell_type": "code",
   "execution_count": 129,
   "metadata": {
    "collapsed": true
   },
   "outputs": [],
   "source": [
    "'''f = codecs.open('train_normalized.txt', 'r', encoding='utf-8')\n",
    "p = codecs.open('unique_characters.txt', 'w', encoding='utf-8')\n",
    "characters = list()\n",
    "for line in f:\n",
    "    for letter in line:\n",
    "        characters.append(letter)\n",
    "f.close()\n",
    "unique_characters = list(set(characters))\n",
    "for i in unique_characters:\n",
    "    p.write(i+'\\n')\n",
    "p.close()'''"
   ]
  },
  {
   "cell_type": "code",
   "execution_count": 2,
   "metadata": {
    "collapsed": true
   },
   "outputs": [],
   "source": [
    "'''f = codecs.open('train.txt', 'r', encoding='utf-8')\n",
    "p = codecs.open('train_cleaned.txt', 'w', encoding='utf-8')\n",
    "for line in f:\n",
    "    line = re.sub(r\"\\s{2,}\", \" \", line)\n",
    "    p.write(line.strip()+'\\n')\n",
    "f.close()\n",
    "p.close()'''"
   ]
  },
  {
   "cell_type": "code",
   "execution_count": 166,
   "metadata": {
    "collapsed": true
   },
   "outputs": [],
   "source": [
    "'''# Randomly shuffle data\n",
    "f = codecs.open('train_cleaned.txt', 'r', encoding='utf-8')\n",
    "p = codecs.open('train_shuffle.txt', 'w', encoding='utf-8')\n",
    "text = list()\n",
    "for i in f:\n",
    "    text.append(i.strip())\n",
    "shuffle(text)\n",
    "for i in text:\n",
    "    p.write(i+'\\n')\n",
    "f.close()\n",
    "p.close()'''"
   ]
  },
  {
   "cell_type": "code",
   "execution_count": 167,
   "metadata": {
    "collapsed": false
   },
   "outputs": [
    {
     "name": "stdout",
     "output_type": "stream",
     "text": [
      "4325\n",
      "موازنہ کے ذریعے پہلے نو مہینوں کے لیے زیروکس نے ڈالر ۱۲۹۷ بلین کے مالیہ پر ڈالر ۴۹۲ ملین یا ڈالر ۴۵۵ فی حصص کمائے\n",
      "\n"
     ]
    }
   ],
   "source": [
    "sentences = list()\n",
    "f = codecs.open('train_shuffle.txt', 'r', encoding='utf-8')\n",
    "for line in f:\n",
    "    sentences.append(line)\n",
    "f.close()\n",
    "\n",
    "print len(sentences)\n",
    "print sentences[100]"
   ]
  },
  {
   "cell_type": "code",
   "execution_count": 168,
   "metadata": {
    "collapsed": true
   },
   "outputs": [],
   "source": [
    "def prepare_sentence(sentence):\n",
    "    sentence = re.sub(u\"\\s\\u200C\",u\"\\u200C\", sentence)\n",
    "    sentence = re.sub(u\"\\u200C\\s\",u\"\\u200C\", sentence)\n",
    "    \n",
    "    lengths = [len(w) for w in sentence.split(\" \")]\n",
    "    positions = []\n",
    "\n",
    "    next_pos = 0\n",
    "    for length in lengths:\n",
    "        next_pos = next_pos + length\n",
    "        positions.append(next_pos)\n",
    "    concatenated = sentence.replace(\" \", \"\")\n",
    "\n",
    "    chars = [c for c in concatenated]\n",
    "    labels = [0 if not i in positions else 1 for i, c in enumerate(concatenated)]\n",
    "    #Uncomment to incorporate ZWNJ\n",
    "    for i, c in enumerate(chars):\n",
    "        if c == u\"\\u200C\" and i+1 < len(chars):\n",
    "            labels[i+1] = 2\n",
    "            del chars[i]\n",
    "            del labels[i]\n",
    "    \n",
    "    return list(zip(chars, labels))"
   ]
  },
  {
   "cell_type": "code",
   "execution_count": 169,
   "metadata": {
    "collapsed": false
   },
   "outputs": [
    {
     "name": "stdout",
     "output_type": "stream",
     "text": [
      "[(u'\\u0645', 0), (u'\\u0648', 0), (u'\\u0627', 0), (u'\\u0632', 0), (u'\\u0646', 0), (u'\\u06c1', 0), (u'\\u06a9', 1), (u'\\u06d2', 0), (u'\\u0630', 1), (u'\\u0631', 0), (u'\\u06cc', 0), (u'\\u0639', 0), (u'\\u06d2', 0), (u'\\u067e', 1), (u'\\u06c1', 0), (u'\\u0644', 0), (u'\\u06d2', 0), (u'\\u0646', 1), (u'\\u0648', 0), (u'\\u0645', 1), (u'\\u06c1', 0), (u'\\u06cc', 0), (u'\\u0646', 0), (u'\\u0648', 0), (u'\\u06ba', 0), (u'\\u06a9', 1), (u'\\u06d2', 0), (u'\\u0644', 1), (u'\\u06cc', 0), (u'\\u06d2', 0), (u'\\u0632', 1), (u'\\u06cc', 0), (u'\\u0631', 0), (u'\\u0648', 0), (u'\\u06a9', 0), (u'\\u0633', 0), (u'\\u0646', 1), (u'\\u06d2', 0), (u'\\u0688', 1), (u'\\u0627', 0), (u'\\u0644', 0), (u'\\u0631', 0), (u'\\u06f1', 1), (u'\\u06f2', 0), (u'\\u06f9', 0), (u'\\u06f7', 0), (u'\\u0628', 1), (u'\\u0644', 0), (u'\\u06cc', 0), (u'\\u0646', 0), (u'\\u06a9', 1), (u'\\u06d2', 0), (u'\\u0645', 1), (u'\\u0627', 0), (u'\\u0644', 0), (u'\\u06cc', 0), (u'\\u06c1', 0), (u'\\u067e', 1), (u'\\u0631', 0), (u'\\u0688', 1), (u'\\u0627', 0), (u'\\u0644', 0), (u'\\u0631', 0), (u'\\u06f4', 1), (u'\\u06f9', 0), (u'\\u06f2', 0), (u'\\u0645', 1), (u'\\u0644', 0), (u'\\u06cc', 0), (u'\\u0646', 0), (u'\\u06cc', 1), (u'\\u0627', 0), (u'\\u0688', 1), (u'\\u0627', 0), (u'\\u0644', 0), (u'\\u0631', 0), (u'\\u06f4', 1), (u'\\u06f5', 0), (u'\\u06f5', 0), (u'\\u0641', 1), (u'\\u06cc', 0), (u'\\u062d', 1), (u'\\u0635', 0), (u'\\u0635', 0), (u'\\u06a9', 1), (u'\\u0645', 0), (u'\\u0627', 0), (u'\\u0626', 0), (u'\\u06d2', 0), (u'\\n', 0)]\n"
     ]
    }
   ],
   "source": [
    "prepared_sentences = list()\n",
    "for sentence in sentences:    \n",
    "    prepared_sentences.append(prepare_sentence(sentence))\n",
    "    \n",
    "print([d for d in prepared_sentences[100]])"
   ]
  },
  {
   "cell_type": "code",
   "execution_count": 170,
   "metadata": {
    "collapsed": false
   },
   "outputs": [
    {
     "name": "stdout",
     "output_type": "stream",
     "text": [
      "false\n",
      "AL\n"
     ]
    }
   ],
   "source": [
    "def checkdigit(char):\n",
    "    digits = [u'۱',u'۲',u'۳',u'۴',u'۵',u'۶',u'۷',u'۸',u'۹',u'۰']\n",
    "    if char in digits:\n",
    "        return \"true\"\n",
    "    return \"false\"\n",
    "print checkdigit(u'ا')\n",
    "print unicodedata.bidirectional(u'ا')"
   ]
  },
  {
   "cell_type": "code",
   "execution_count": 171,
   "metadata": {
    "collapsed": true
   },
   "outputs": [],
   "source": [
    "def isnonjoiner(char):\n",
    "    non_joiners = [u'ا', u'د', u'ڈ', u'ز', u'ذ', u'ر', u'ڑ', u'ژ', u'و', u'ے']\n",
    "    if char in non_joiners:\n",
    "        return \"true\"\n",
    "    return \"false\""
   ]
  },
  {
   "cell_type": "code",
   "execution_count": 205,
   "metadata": {
    "collapsed": true
   },
   "outputs": [],
   "source": [
    "def create_char_features(sentence, i):\n",
    "    features = [\n",
    "        'bias',\n",
    "        'char=' + sentence[i][0],\n",
    "        'char.isdigit=' + checkdigit(sentence[i][0]),\n",
    "        'char.isnonjoiner=' + isnonjoiner(sentence[i][0]),\n",
    "        'char.category=' + unicodedata.category(sentence[i][0]),\n",
    "        'char.direction=' + unicodedata.bidirectional(sentence[i][0]),\n",
    "    ]\n",
    "    \n",
    "    if i >= 1:\n",
    "        features.extend([\n",
    "            'char-1=' + sentence[i-1][0],\n",
    "            'char-1:0=' + sentence[i-1][0] + sentence[i][0],\n",
    "        ])\n",
    "    else:\n",
    "        features.append(\"BOS\")\n",
    "        \n",
    "    if i >= 2:\n",
    "        features.extend([\n",
    "            'char-2=' + sentence[i-2][0],\n",
    "            'char-2:0=' + sentence[i-2][0] + sentence[i-1][0] + sentence[i][0],\n",
    "            'char-2:-1=' + sentence[i-2][0] + sentence[i-1][0],\n",
    "        ])\n",
    "        \n",
    "    if i >= 3:\n",
    "        features.extend([\n",
    "            'char-3:0=' + sentence[i-3][0] + sentence[i-2][0] + sentence[i-1][0] + sentence[i][0],\n",
    "            'char-3:-1=' + sentence[i-3][0] + sentence[i-2][0] + sentence[i-1][0],\n",
    "        ])\n",
    "        \n",
    "        \n",
    "    if i + 1 < len(sentence):\n",
    "        features.extend([\n",
    "            'char+1=' + sentence[i+1][0],\n",
    "            'char:+1=' + sentence[i][0] + sentence[i+1][0],\n",
    "        ])\n",
    "    else:\n",
    "        features.append(\"EOS\")\n",
    "        \n",
    "    if i + 2 < len(sentence):\n",
    "        features.extend([\n",
    "            'char+2=' + sentence[i+2][0],\n",
    "            'char:+2=' + sentence[i][0] + sentence[i+1][0] + sentence[i+2][0],\n",
    "            'char+1:+2=' + sentence[i+1][0] + sentence[i+2][0],\n",
    "        ])\n",
    "        \n",
    "    if i + 3 < len(sentence):\n",
    "        features.extend([\n",
    "            'char:+3=' + sentence[i][0] + sentence[i+1][0] + sentence[i+2][0]+ sentence[i+3][0],\n",
    "            'char+1:+3=' + sentence[i+1][0] + sentence[i+2][0] + sentence[i+3][0],\n",
    "        ])\n",
    "    \n",
    "    return features\n",
    "\n",
    "\n",
    "\n",
    "def create_sentence_features(prepared_sentence):\n",
    "    return [create_char_features(prepared_sentence, i) for i in range(len(prepared_sentence))]\n",
    "\n",
    "def create_sentence_labels(prepared_sentence):\n",
    "    return [str(part[1]) for part in prepared_sentence]"
   ]
  },
  {
   "cell_type": "code",
   "execution_count": 206,
   "metadata": {
    "collapsed": false
   },
   "outputs": [],
   "source": [
    "X_train = [create_sentence_features(ps) for ps in prepared_sentences[:-825]]\n",
    "y_train = [create_sentence_labels(ps)   for ps in prepared_sentences[:-825]]"
   ]
  },
  {
   "cell_type": "code",
   "execution_count": 207,
   "metadata": {
    "collapsed": false
   },
   "outputs": [
    {
     "name": "stdout",
     "output_type": "stream",
     "text": [
      "[['bias', u'char=\\u0645', 'char.isdigit=false', 'char.isnonjoiner=false', 'char.category=Lo', 'char.direction=AL', 'BOS', u'char+1=\\u0633', u'char:+1=\\u0645\\u0633', u'char+2=\\u0679', u'char:+2=\\u0645\\u0633\\u0679', u'char+1:+2=\\u0633\\u0679', u'char:+3=\\u0645\\u0633\\u0679\\u0631', u'char+1:+3=\\u0633\\u0679\\u0631'], ['bias', u'char=\\u0633', 'char.isdigit=false', 'char.isnonjoiner=false', 'char.category=Lo', 'char.direction=AL', u'char-1=\\u0645', u'char-1:0=\\u0645\\u0633', u'char+1=\\u0679', u'char:+1=\\u0633\\u0679', u'char+2=\\u0631', u'char:+2=\\u0633\\u0679\\u0631', u'char+1:+2=\\u0679\\u0631', u'char:+3=\\u0633\\u0679\\u0631\\u0644', u'char+1:+3=\\u0679\\u0631\\u0644'], ['bias', u'char=\\u0679', 'char.isdigit=false', 'char.isnonjoiner=false', 'char.category=Lo', 'char.direction=AL', u'char-1=\\u0633', u'char-1:0=\\u0633\\u0679', u'char-2=\\u0645', u'char-2:0=\\u0645\\u0633\\u0679', u'char-2:-1=\\u0645\\u0633', u'char+1=\\u0631', u'char:+1=\\u0679\\u0631', u'char+2=\\u0644', u'char:+2=\\u0679\\u0631\\u0644', u'char+1:+2=\\u0631\\u0644', u'char:+3=\\u0679\\u0631\\u0644\\u06cc', u'char+1:+3=\\u0631\\u0644\\u06cc'], ['bias', u'char=\\u0631', 'char.isdigit=false', 'char.isnonjoiner=true', 'char.category=Lo', 'char.direction=AL', u'char-1=\\u0679', u'char-1:0=\\u0679\\u0631', u'char-2=\\u0633', u'char-2:0=\\u0633\\u0679\\u0631', u'char-2:-1=\\u0633\\u0679', u'char-3:0=\\u0645\\u0633\\u0679\\u0631', u'char-3:-1=\\u0645\\u0633\\u0679', u'char+1=\\u0644', u'char:+1=\\u0631\\u0644', u'char+2=\\u06cc', u'char:+2=\\u0631\\u0644\\u06cc', u'char+1:+2=\\u0644\\u06cc', u'char:+3=\\u0631\\u0644\\u06cc\\u0645', u'char+1:+3=\\u0644\\u06cc\\u0645'], ['bias', u'char=\\u0644', 'char.isdigit=false', 'char.isnonjoiner=false', 'char.category=Lo', 'char.direction=AL', u'char-1=\\u0631', u'char-1:0=\\u0631\\u0644', u'char-2=\\u0679', u'char-2:0=\\u0679\\u0631\\u0644', u'char-2:-1=\\u0679\\u0631', u'char-3:0=\\u0633\\u0679\\u0631\\u0644', u'char-3:-1=\\u0633\\u0679\\u0631', u'char+1=\\u06cc', u'char:+1=\\u0644\\u06cc', u'char+2=\\u0645', u'char:+2=\\u0644\\u06cc\\u0645', u'char+1:+2=\\u06cc\\u0645', u'char:+3=\\u0644\\u06cc\\u0645\\u0646', u'char+1:+3=\\u06cc\\u0645\\u0646'], ['bias', u'char=\\u06cc', 'char.isdigit=false', 'char.isnonjoiner=false', 'char.category=Lo', 'char.direction=AL', u'char-1=\\u0644', u'char-1:0=\\u0644\\u06cc', u'char-2=\\u0631', u'char-2:0=\\u0631\\u0644\\u06cc', u'char-2:-1=\\u0631\\u0644', u'char-3:0=\\u0679\\u0631\\u0644\\u06cc', u'char-3:-1=\\u0679\\u0631\\u0644', u'char+1=\\u0645', u'char:+1=\\u06cc\\u0645', u'char+2=\\u0646', u'char:+2=\\u06cc\\u0645\\u0646', u'char+1:+2=\\u0645\\u0646', u'char:+3=\\u06cc\\u0645\\u0646\\u0632', u'char+1:+3=\\u0645\\u0646\\u0632'], ['bias', u'char=\\u0645', 'char.isdigit=false', 'char.isnonjoiner=false', 'char.category=Lo', 'char.direction=AL', u'char-1=\\u06cc', u'char-1:0=\\u06cc\\u0645', u'char-2=\\u0644', u'char-2:0=\\u0644\\u06cc\\u0645', u'char-2:-1=\\u0644\\u06cc', u'char-3:0=\\u0631\\u0644\\u06cc\\u0645', u'char-3:-1=\\u0631\\u0644\\u06cc', u'char+1=\\u0646', u'char:+1=\\u0645\\u0646', u'char+2=\\u0632', u'char:+2=\\u0645\\u0646\\u0632', u'char+1:+2=\\u0646\\u0632', u'char:+3=\\u0645\\u0646\\u0632\\u0646', u'char+1:+3=\\u0646\\u0632\\u0646'], ['bias', u'char=\\u0646', 'char.isdigit=false', 'char.isnonjoiner=false', 'char.category=Lo', 'char.direction=AL', u'char-1=\\u0645', u'char-1:0=\\u0645\\u0646', u'char-2=\\u06cc', u'char-2:0=\\u06cc\\u0645\\u0646', u'char-2:-1=\\u06cc\\u0645', u'char-3:0=\\u0644\\u06cc\\u0645\\u0646', u'char-3:-1=\\u0644\\u06cc\\u0645', u'char+1=\\u0632', u'char:+1=\\u0646\\u0632', u'char+2=\\u0646', u'char:+2=\\u0646\\u0632\\u0646', u'char+1:+2=\\u0632\\u0646', u'char:+3=\\u0646\\u0632\\u0646\\u06d2', u'char+1:+3=\\u0632\\u0646\\u06d2'], ['bias', u'char=\\u0632', 'char.isdigit=false', 'char.isnonjoiner=true', 'char.category=Lo', 'char.direction=AL', u'char-1=\\u0646', u'char-1:0=\\u0646\\u0632', u'char-2=\\u0645', u'char-2:0=\\u0645\\u0646\\u0632', u'char-2:-1=\\u0645\\u0646', u'char-3:0=\\u06cc\\u0645\\u0646\\u0632', u'char-3:-1=\\u06cc\\u0645\\u0646', u'char+1=\\u0646', u'char:+1=\\u0632\\u0646', u'char+2=\\u06d2', u'char:+2=\\u0632\\u0646\\u06d2', u'char+1:+2=\\u0646\\u06d2', u'char:+3=\\u0632\\u0646\\u06d2\\u06a9', u'char+1:+3=\\u0646\\u06d2\\u06a9'], ['bias', u'char=\\u0646', 'char.isdigit=false', 'char.isnonjoiner=false', 'char.category=Lo', 'char.direction=AL', u'char-1=\\u0632', u'char-1:0=\\u0632\\u0646', u'char-2=\\u0646', u'char-2:0=\\u0646\\u0632\\u0646', u'char-2:-1=\\u0646\\u0632', u'char-3:0=\\u0645\\u0646\\u0632\\u0646', u'char-3:-1=\\u0645\\u0646\\u0632', u'char+1=\\u06d2', u'char:+1=\\u0646\\u06d2', u'char+2=\\u06a9', u'char:+2=\\u0646\\u06d2\\u06a9', u'char+1:+2=\\u06d2\\u06a9', u'char:+3=\\u0646\\u06d2\\u06a9\\u06c1', u'char+1:+3=\\u06d2\\u06a9\\u06c1'], ['bias', u'char=\\u06d2', 'char.isdigit=false', 'char.isnonjoiner=true', 'char.category=Lo', 'char.direction=AL', u'char-1=\\u0646', u'char-1:0=\\u0646\\u06d2', u'char-2=\\u0632', u'char-2:0=\\u0632\\u0646\\u06d2', u'char-2:-1=\\u0632\\u0646', u'char-3:0=\\u0646\\u0632\\u0646\\u06d2', u'char-3:-1=\\u0646\\u0632\\u0646', u'char+1=\\u06a9', u'char:+1=\\u06d2\\u06a9', u'char+2=\\u06c1', u'char:+2=\\u06d2\\u06a9\\u06c1', u'char+1:+2=\\u06a9\\u06c1', u'char:+3=\\u06d2\\u06a9\\u06c1\\u0627', u'char+1:+3=\\u06a9\\u06c1\\u0627'], ['bias', u'char=\\u06a9', 'char.isdigit=false', 'char.isnonjoiner=false', 'char.category=Lo', 'char.direction=AL', u'char-1=\\u06d2', u'char-1:0=\\u06d2\\u06a9', u'char-2=\\u0646', u'char-2:0=\\u0646\\u06d2\\u06a9', u'char-2:-1=\\u0646\\u06d2', u'char-3:0=\\u0632\\u0646\\u06d2\\u06a9', u'char-3:-1=\\u0632\\u0646\\u06d2', u'char+1=\\u06c1', u'char:+1=\\u06a9\\u06c1', u'char+2=\\u0627', u'char:+2=\\u06a9\\u06c1\\u0627', u'char+1:+2=\\u06c1\\u0627', u'char:+3=\\u06a9\\u06c1\\u0627\\u06cc', u'char+1:+3=\\u06c1\\u0627\\u06cc'], ['bias', u'char=\\u06c1', 'char.isdigit=false', 'char.isnonjoiner=false', 'char.category=Lo', 'char.direction=AL', u'char-1=\\u06a9', u'char-1:0=\\u06a9\\u06c1', u'char-2=\\u06d2', u'char-2:0=\\u06d2\\u06a9\\u06c1', u'char-2:-1=\\u06d2\\u06a9', u'char-3:0=\\u0646\\u06d2\\u06a9\\u06c1', u'char-3:-1=\\u0646\\u06d2\\u06a9', u'char+1=\\u0627', u'char:+1=\\u06c1\\u0627', u'char+2=\\u06cc', u'char:+2=\\u06c1\\u0627\\u06cc', u'char+1:+2=\\u0627\\u06cc', u'char:+3=\\u06c1\\u0627\\u06cc\\u06c1', u'char+1:+3=\\u0627\\u06cc\\u06c1'], ['bias', u'char=\\u0627', 'char.isdigit=false', 'char.isnonjoiner=true', 'char.category=Lo', 'char.direction=AL', u'char-1=\\u06c1', u'char-1:0=\\u06c1\\u0627', u'char-2=\\u06a9', u'char-2:0=\\u06a9\\u06c1\\u0627', u'char-2:-1=\\u06a9\\u06c1', u'char-3:0=\\u06d2\\u06a9\\u06c1\\u0627', u'char-3:-1=\\u06d2\\u06a9\\u06c1', u'char+1=\\u06cc', u'char:+1=\\u0627\\u06cc', u'char+2=\\u06c1', u'char:+2=\\u0627\\u06cc\\u06c1', u'char+1:+2=\\u06cc\\u06c1', u'char:+3=\\u0627\\u06cc\\u06c1\\u062a', u'char+1:+3=\\u06cc\\u06c1\\u062a'], ['bias', u'char=\\u06cc', 'char.isdigit=false', 'char.isnonjoiner=false', 'char.category=Lo', 'char.direction=AL', u'char-1=\\u0627', u'char-1:0=\\u0627\\u06cc', u'char-2=\\u06c1', u'char-2:0=\\u06c1\\u0627\\u06cc', u'char-2:-1=\\u06c1\\u0627', u'char-3:0=\\u06a9\\u06c1\\u0627\\u06cc', u'char-3:-1=\\u06a9\\u06c1\\u0627', u'char+1=\\u06c1', u'char:+1=\\u06cc\\u06c1', u'char+2=\\u062a', u'char:+2=\\u06cc\\u06c1\\u062a', u'char+1:+2=\\u06c1\\u062a', u'char:+3=\\u06cc\\u06c1\\u062a\\u0648', u'char+1:+3=\\u06c1\\u062a\\u0648'], ['bias', u'char=\\u06c1', 'char.isdigit=false', 'char.isnonjoiner=false', 'char.category=Lo', 'char.direction=AL', u'char-1=\\u06cc', u'char-1:0=\\u06cc\\u06c1', u'char-2=\\u0627', u'char-2:0=\\u0627\\u06cc\\u06c1', u'char-2:-1=\\u0627\\u06cc', u'char-3:0=\\u06c1\\u0627\\u06cc\\u06c1', u'char-3:-1=\\u06c1\\u0627\\u06cc', u'char+1=\\u062a', u'char:+1=\\u06c1\\u062a', u'char+2=\\u0648', u'char:+2=\\u06c1\\u062a\\u0648', u'char+1:+2=\\u062a\\u0648', u'char:+3=\\u06c1\\u062a\\u0648\\u0627', u'char+1:+3=\\u062a\\u0648\\u0627'], ['bias', u'char=\\u062a', 'char.isdigit=false', 'char.isnonjoiner=false', 'char.category=Lo', 'char.direction=AL', u'char-1=\\u06c1', u'char-1:0=\\u06c1\\u062a', u'char-2=\\u06cc', u'char-2:0=\\u06cc\\u06c1\\u062a', u'char-2:-1=\\u06cc\\u06c1', u'char-3:0=\\u0627\\u06cc\\u06c1\\u062a', u'char-3:-1=\\u0627\\u06cc\\u06c1', u'char+1=\\u0648', u'char:+1=\\u062a\\u0648', u'char+2=\\u0627', u'char:+2=\\u062a\\u0648\\u0627', u'char+1:+2=\\u0648\\u0627', u'char:+3=\\u062a\\u0648\\u0627\\u0644', u'char+1:+3=\\u0648\\u0627\\u0644'], ['bias', u'char=\\u0648', 'char.isdigit=false', 'char.isnonjoiner=true', 'char.category=Lo', 'char.direction=AL', u'char-1=\\u062a', u'char-1:0=\\u062a\\u0648', u'char-2=\\u06c1', u'char-2:0=\\u06c1\\u062a\\u0648', u'char-2:-1=\\u06c1\\u062a', u'char-3:0=\\u06cc\\u06c1\\u062a\\u0648', u'char-3:-1=\\u06cc\\u06c1\\u062a', u'char+1=\\u0627', u'char:+1=\\u0648\\u0627', u'char+2=\\u0644', u'char:+2=\\u0648\\u0627\\u0644', u'char+1:+2=\\u0627\\u0644', u'char:+3=\\u0648\\u0627\\u0644\\u062f', u'char+1:+3=\\u0627\\u0644\\u062f'], ['bias', u'char=\\u0627', 'char.isdigit=false', 'char.isnonjoiner=true', 'char.category=Lo', 'char.direction=AL', u'char-1=\\u0648', u'char-1:0=\\u0648\\u0627', u'char-2=\\u062a', u'char-2:0=\\u062a\\u0648\\u0627', u'char-2:-1=\\u062a\\u0648', u'char-3:0=\\u06c1\\u062a\\u0648\\u0627', u'char-3:-1=\\u06c1\\u062a\\u0648', u'char+1=\\u0644', u'char:+1=\\u0627\\u0644', u'char+2=\\u062f', u'char:+2=\\u0627\\u0644\\u062f', u'char+1:+2=\\u0644\\u062f', u'char:+3=\\u0627\\u0644\\u062f\\u06cc', u'char+1:+3=\\u0644\\u062f\\u06cc'], ['bias', u'char=\\u0644', 'char.isdigit=false', 'char.isnonjoiner=false', 'char.category=Lo', 'char.direction=AL', u'char-1=\\u0627', u'char-1:0=\\u0627\\u0644', u'char-2=\\u0648', u'char-2:0=\\u0648\\u0627\\u0644', u'char-2:-1=\\u0648\\u0627', u'char-3:0=\\u062a\\u0648\\u0627\\u0644', u'char-3:-1=\\u062a\\u0648\\u0627', u'char+1=\\u062f', u'char:+1=\\u0644\\u062f', u'char+2=\\u06cc', u'char:+2=\\u0644\\u062f\\u06cc', u'char+1:+2=\\u062f\\u06cc', u'char:+3=\\u0644\\u062f\\u06cc\\u06c1', u'char+1:+3=\\u062f\\u06cc\\u06c1'], ['bias', u'char=\\u062f', 'char.isdigit=false', 'char.isnonjoiner=true', 'char.category=Lo', 'char.direction=AL', u'char-1=\\u0644', u'char-1:0=\\u0644\\u062f', u'char-2=\\u0627', u'char-2:0=\\u0627\\u0644\\u062f', u'char-2:-1=\\u0627\\u0644', u'char-3:0=\\u0648\\u0627\\u0644\\u062f', u'char-3:-1=\\u0648\\u0627\\u0644', u'char+1=\\u06cc', u'char:+1=\\u062f\\u06cc', u'char+2=\\u06c1', u'char:+2=\\u062f\\u06cc\\u06c1', u'char+1:+2=\\u06cc\\u06c1', u'char:+3=\\u062f\\u06cc\\u06c1\\u0646', u'char+1:+3=\\u06cc\\u06c1\\u0646'], ['bias', u'char=\\u06cc', 'char.isdigit=false', 'char.isnonjoiner=false', 'char.category=Lo', 'char.direction=AL', u'char-1=\\u062f', u'char-1:0=\\u062f\\u06cc', u'char-2=\\u0644', u'char-2:0=\\u0644\\u062f\\u06cc', u'char-2:-1=\\u0644\\u062f', u'char-3:0=\\u0627\\u0644\\u062f\\u06cc', u'char-3:-1=\\u0627\\u0644\\u062f', u'char+1=\\u06c1', u'char:+1=\\u06cc\\u06c1', u'char+2=\\u0646', u'char:+2=\\u06cc\\u06c1\\u0646', u'char+1:+2=\\u06c1\\u0646', u'char:+3=\\u06cc\\u06c1\\u0646\\u0631', u'char+1:+3=\\u06c1\\u0646\\u0631'], ['bias', u'char=\\u06c1', 'char.isdigit=false', 'char.isnonjoiner=false', 'char.category=Lo', 'char.direction=AL', u'char-1=\\u06cc', u'char-1:0=\\u06cc\\u06c1', u'char-2=\\u062f', u'char-2:0=\\u062f\\u06cc\\u06c1', u'char-2:-1=\\u062f\\u06cc', u'char-3:0=\\u0644\\u062f\\u06cc\\u06c1', u'char-3:-1=\\u0644\\u062f\\u06cc', u'char+1=\\u0646', u'char:+1=\\u06c1\\u0646', u'char+2=\\u0631', u'char:+2=\\u06c1\\u0646\\u0631', u'char+1:+2=\\u0646\\u0631', u'char:+3=\\u06c1\\u0646\\u0631\\u0645', u'char+1:+3=\\u0646\\u0631\\u0645'], ['bias', u'char=\\u0646', 'char.isdigit=false', 'char.isnonjoiner=false', 'char.category=Lo', 'char.direction=AL', u'char-1=\\u06c1', u'char-1:0=\\u06c1\\u0646', u'char-2=\\u06cc', u'char-2:0=\\u06cc\\u06c1\\u0646', u'char-2:-1=\\u06cc\\u06c1', u'char-3:0=\\u062f\\u06cc\\u06c1\\u0646', u'char-3:-1=\\u062f\\u06cc\\u06c1', u'char+1=\\u0631', u'char:+1=\\u0646\\u0631', u'char+2=\\u0645', u'char:+2=\\u0646\\u0631\\u0645', u'char+1:+2=\\u0631\\u0645', u'char:+3=\\u0646\\u0631\\u0645\\u0646', u'char+1:+3=\\u0631\\u0645\\u0646'], ['bias', u'char=\\u0631', 'char.isdigit=false', 'char.isnonjoiner=true', 'char.category=Lo', 'char.direction=AL', u'char-1=\\u0646', u'char-1:0=\\u0646\\u0631', u'char-2=\\u06c1', u'char-2:0=\\u06c1\\u0646\\u0631', u'char-2:-1=\\u06c1\\u0646', u'char-3:0=\\u06cc\\u06c1\\u0646\\u0631', u'char-3:-1=\\u06cc\\u06c1\\u0646', u'char+1=\\u0645', u'char:+1=\\u0631\\u0645', u'char+2=\\u0646', u'char:+2=\\u0631\\u0645\\u0646', u'char+1:+2=\\u0645\\u0646', u'char:+3=\\u0631\\u0645\\u0646\\u062f', u'char+1:+3=\\u0645\\u0646\\u062f'], ['bias', u'char=\\u0645', 'char.isdigit=false', 'char.isnonjoiner=false', 'char.category=Lo', 'char.direction=AL', u'char-1=\\u0631', u'char-1:0=\\u0631\\u0645', u'char-2=\\u0646', u'char-2:0=\\u0646\\u0631\\u0645', u'char-2:-1=\\u0646\\u0631', u'char-3:0=\\u06c1\\u0646\\u0631\\u0645', u'char-3:-1=\\u06c1\\u0646\\u0631', u'char+1=\\u0646', u'char:+1=\\u0645\\u0646', u'char+2=\\u062f', u'char:+2=\\u0645\\u0646\\u062f', u'char+1:+2=\\u0646\\u062f', u'char:+3=\\u0645\\u0646\\u062f\\u06cc', u'char+1:+3=\\u0646\\u062f\\u06cc'], ['bias', u'char=\\u0646', 'char.isdigit=false', 'char.isnonjoiner=false', 'char.category=Lo', 'char.direction=AL', u'char-1=\\u0645', u'char-1:0=\\u0645\\u0646', u'char-2=\\u0631', u'char-2:0=\\u0631\\u0645\\u0646', u'char-2:-1=\\u0631\\u0645', u'char-3:0=\\u0646\\u0631\\u0645\\u0646', u'char-3:-1=\\u0646\\u0631\\u0645', u'char+1=\\u062f', u'char:+1=\\u0646\\u062f', u'char+2=\\u06cc', u'char:+2=\\u0646\\u062f\\u06cc', u'char+1:+2=\\u062f\\u06cc', u'char:+3=\\u0646\\u062f\\u06cc\\u0627', u'char+1:+3=\\u062f\\u06cc\\u0627'], ['bias', u'char=\\u062f', 'char.isdigit=false', 'char.isnonjoiner=true', 'char.category=Lo', 'char.direction=AL', u'char-1=\\u0646', u'char-1:0=\\u0646\\u062f', u'char-2=\\u0645', u'char-2:0=\\u0645\\u0646\\u062f', u'char-2:-1=\\u0645\\u0646', u'char-3:0=\\u0631\\u0645\\u0646\\u062f', u'char-3:-1=\\u0631\\u0645\\u0646', u'char+1=\\u06cc', u'char:+1=\\u062f\\u06cc', u'char+2=\\u0627', u'char:+2=\\u062f\\u06cc\\u0627', u'char+1:+2=\\u06cc\\u0627', u'char:+3=\\u062f\\u06cc\\u0627\\u0633', u'char+1:+3=\\u06cc\\u0627\\u0633'], ['bias', u'char=\\u06cc', 'char.isdigit=false', 'char.isnonjoiner=false', 'char.category=Lo', 'char.direction=AL', u'char-1=\\u062f', u'char-1:0=\\u062f\\u06cc', u'char-2=\\u0646', u'char-2:0=\\u0646\\u062f\\u06cc', u'char-2:-1=\\u0646\\u062f', u'char-3:0=\\u0645\\u0646\\u062f\\u06cc', u'char-3:-1=\\u0645\\u0646\\u062f', u'char+1=\\u0627', u'char:+1=\\u06cc\\u0627', u'char+2=\\u0633', u'char:+2=\\u06cc\\u0627\\u0633', u'char+1:+2=\\u0627\\u0633', u'char:+3=\\u06cc\\u0627\\u0633\\u067e', u'char+1:+3=\\u0627\\u0633\\u067e'], ['bias', u'char=\\u0627', 'char.isdigit=false', 'char.isnonjoiner=true', 'char.category=Lo', 'char.direction=AL', u'char-1=\\u06cc', u'char-1:0=\\u06cc\\u0627', u'char-2=\\u062f', u'char-2:0=\\u062f\\u06cc\\u0627', u'char-2:-1=\\u062f\\u06cc', u'char-3:0=\\u0646\\u062f\\u06cc\\u0627', u'char-3:-1=\\u0646\\u062f\\u06cc', u'char+1=\\u0633', u'char:+1=\\u0627\\u0633', u'char+2=\\u067e', u'char:+2=\\u0627\\u0633\\u067e', u'char+1:+2=\\u0633\\u067e', u'char:+3=\\u0627\\u0633\\u067e\\u0648', u'char+1:+3=\\u0633\\u067e\\u0648'], ['bias', u'char=\\u0633', 'char.isdigit=false', 'char.isnonjoiner=false', 'char.category=Lo', 'char.direction=AL', u'char-1=\\u0627', u'char-1:0=\\u0627\\u0633', u'char-2=\\u06cc', u'char-2:0=\\u06cc\\u0627\\u0633', u'char-2:-1=\\u06cc\\u0627', u'char-3:0=\\u062f\\u06cc\\u0627\\u0633', u'char-3:-1=\\u062f\\u06cc\\u0627', u'char+1=\\u067e', u'char:+1=\\u0633\\u067e', u'char+2=\\u0648', u'char:+2=\\u0633\\u067e\\u0648', u'char+1:+2=\\u067e\\u0648', u'char:+3=\\u0633\\u067e\\u0648\\u062f', u'char+1:+3=\\u067e\\u0648\\u062f'], ['bias', u'char=\\u067e', 'char.isdigit=false', 'char.isnonjoiner=false', 'char.category=Lo', 'char.direction=AL', u'char-1=\\u0633', u'char-1:0=\\u0633\\u067e', u'char-2=\\u0627', u'char-2:0=\\u0627\\u0633\\u067e', u'char-2:-1=\\u0627\\u0633', u'char-3:0=\\u06cc\\u0627\\u0633\\u067e', u'char-3:-1=\\u06cc\\u0627\\u0633', u'char+1=\\u0648', u'char:+1=\\u067e\\u0648', u'char+2=\\u062f', u'char:+2=\\u067e\\u0648\\u062f', u'char+1:+2=\\u0648\\u062f', u'char:+3=\\u067e\\u0648\\u062f\\u06d2', u'char+1:+3=\\u0648\\u062f\\u06d2'], ['bias', u'char=\\u0648', 'char.isdigit=false', 'char.isnonjoiner=true', 'char.category=Lo', 'char.direction=AL', u'char-1=\\u067e', u'char-1:0=\\u067e\\u0648', u'char-2=\\u0633', u'char-2:0=\\u0633\\u067e\\u0648', u'char-2:-1=\\u0633\\u067e', u'char-3:0=\\u0627\\u0633\\u067e\\u0648', u'char-3:-1=\\u0627\\u0633\\u067e', u'char+1=\\u062f', u'char:+1=\\u0648\\u062f', u'char+2=\\u06d2', u'char:+2=\\u0648\\u062f\\u06d2', u'char+1:+2=\\u062f\\u06d2', u'char:+3=\\u0648\\u062f\\u06d2\\u06a9', u'char+1:+3=\\u062f\\u06d2\\u06a9'], ['bias', u'char=\\u062f', 'char.isdigit=false', 'char.isnonjoiner=true', 'char.category=Lo', 'char.direction=AL', u'char-1=\\u0648', u'char-1:0=\\u0648\\u062f', u'char-2=\\u067e', u'char-2:0=\\u067e\\u0648\\u062f', u'char-2:-1=\\u067e\\u0648', u'char-3:0=\\u0633\\u067e\\u0648\\u062f', u'char-3:-1=\\u0633\\u067e\\u0648', u'char+1=\\u06d2', u'char:+1=\\u062f\\u06d2', u'char+2=\\u06a9', u'char:+2=\\u062f\\u06d2\\u06a9', u'char+1:+2=\\u06d2\\u06a9', u'char:+3=\\u062f\\u06d2\\u06a9\\u06cc', u'char+1:+3=\\u06d2\\u06a9\\u06cc'], ['bias', u'char=\\u06d2', 'char.isdigit=false', 'char.isnonjoiner=true', 'char.category=Lo', 'char.direction=AL', u'char-1=\\u062f', u'char-1:0=\\u062f\\u06d2', u'char-2=\\u0648', u'char-2:0=\\u0648\\u062f\\u06d2', u'char-2:-1=\\u0648\\u062f', u'char-3:0=\\u067e\\u0648\\u062f\\u06d2', u'char-3:-1=\\u067e\\u0648\\u062f', u'char+1=\\u06a9', u'char:+1=\\u06d2\\u06a9', u'char+2=\\u06cc', u'char:+2=\\u06d2\\u06a9\\u06cc', u'char+1:+2=\\u06a9\\u06cc', u'char:+3=\\u06d2\\u06a9\\u06cc\\u0646', u'char+1:+3=\\u06a9\\u06cc\\u0646'], ['bias', u'char=\\u06a9', 'char.isdigit=false', 'char.isnonjoiner=false', 'char.category=Lo', 'char.direction=AL', u'char-1=\\u06d2', u'char-1:0=\\u06d2\\u06a9', u'char-2=\\u062f', u'char-2:0=\\u062f\\u06d2\\u06a9', u'char-2:-1=\\u062f\\u06d2', u'char-3:0=\\u0648\\u062f\\u06d2\\u06a9', u'char-3:-1=\\u0648\\u062f\\u06d2', u'char+1=\\u06cc', u'char:+1=\\u06a9\\u06cc', u'char+2=\\u0646', u'char:+2=\\u06a9\\u06cc\\u0646', u'char+1:+2=\\u06cc\\u0646', u'char:+3=\\u06a9\\u06cc\\u0646\\u0645', u'char+1:+3=\\u06cc\\u0646\\u0645'], ['bias', u'char=\\u06cc', 'char.isdigit=false', 'char.isnonjoiner=false', 'char.category=Lo', 'char.direction=AL', u'char-1=\\u06a9', u'char-1:0=\\u06a9\\u06cc', u'char-2=\\u06d2', u'char-2:0=\\u06d2\\u06a9\\u06cc', u'char-2:-1=\\u06d2\\u06a9', u'char-3:0=\\u062f\\u06d2\\u06a9\\u06cc', u'char-3:-1=\\u062f\\u06d2\\u06a9', u'char+1=\\u0646', u'char:+1=\\u06cc\\u0646', u'char+2=\\u0645', u'char:+2=\\u06cc\\u0646\\u0645', u'char+1:+2=\\u0646\\u0645', u'char:+3=\\u06cc\\u0646\\u0645\\u0648', u'char+1:+3=\\u0646\\u0645\\u0648'], ['bias', u'char=\\u0646', 'char.isdigit=false', 'char.isnonjoiner=false', 'char.category=Lo', 'char.direction=AL', u'char-1=\\u06cc', u'char-1:0=\\u06cc\\u0646', u'char-2=\\u06a9', u'char-2:0=\\u06a9\\u06cc\\u0646', u'char-2:-1=\\u06a9\\u06cc', u'char-3:0=\\u06d2\\u06a9\\u06cc\\u0646', u'char-3:-1=\\u06d2\\u06a9\\u06cc', u'char+1=\\u0645', u'char:+1=\\u0646\\u0645', u'char+2=\\u0648', u'char:+2=\\u0646\\u0645\\u0648', u'char+1:+2=\\u0645\\u0648', u'char:+3=\\u0646\\u0645\\u0648\\u06a9', u'char+1:+3=\\u0645\\u0648\\u06a9'], ['bias', u'char=\\u0645', 'char.isdigit=false', 'char.isnonjoiner=false', 'char.category=Lo', 'char.direction=AL', u'char-1=\\u0646', u'char-1:0=\\u0646\\u0645', u'char-2=\\u06cc', u'char-2:0=\\u06cc\\u0646\\u0645', u'char-2:-1=\\u06cc\\u0646', u'char-3:0=\\u06a9\\u06cc\\u0646\\u0645', u'char-3:-1=\\u06a9\\u06cc\\u0646', u'char+1=\\u0648', u'char:+1=\\u0645\\u0648', u'char+2=\\u06a9', u'char:+2=\\u0645\\u0648\\u06a9', u'char+1:+2=\\u0648\\u06a9', u'char:+3=\\u0645\\u0648\\u06a9\\u0648', u'char+1:+3=\\u0648\\u06a9\\u0648'], ['bias', u'char=\\u0648', 'char.isdigit=false', 'char.isnonjoiner=true', 'char.category=Lo', 'char.direction=AL', u'char-1=\\u0645', u'char-1:0=\\u0645\\u0648', u'char-2=\\u0646', u'char-2:0=\\u0646\\u0645\\u0648', u'char-2:-1=\\u0646\\u0645', u'char-3:0=\\u06cc\\u0646\\u0645\\u0648', u'char-3:-1=\\u06cc\\u0646\\u0645', u'char+1=\\u06a9', u'char:+1=\\u0648\\u06a9', u'char+2=\\u0648', u'char:+2=\\u0648\\u06a9\\u0648', u'char+1:+2=\\u06a9\\u0648', u'char:+3=\\u0648\\u06a9\\u0648\\u0646', u'char+1:+3=\\u06a9\\u0648\\u0646'], ['bias', u'char=\\u06a9', 'char.isdigit=false', 'char.isnonjoiner=false', 'char.category=Lo', 'char.direction=AL', u'char-1=\\u0648', u'char-1:0=\\u0648\\u06a9', u'char-2=\\u0645', u'char-2:0=\\u0645\\u0648\\u06a9', u'char-2:-1=\\u0645\\u0648', u'char-3:0=\\u0646\\u0645\\u0648\\u06a9', u'char-3:-1=\\u0646\\u0645\\u0648', u'char+1=\\u0648', u'char:+1=\\u06a9\\u0648', u'char+2=\\u0646', u'char:+2=\\u06a9\\u0648\\u0646', u'char+1:+2=\\u0648\\u0646', u'char:+3=\\u06a9\\u0648\\u0646\\u0642', u'char+1:+3=\\u0648\\u0646\\u0642'], ['bias', u'char=\\u0648', 'char.isdigit=false', 'char.isnonjoiner=true', 'char.category=Lo', 'char.direction=AL', u'char-1=\\u06a9', u'char-1:0=\\u06a9\\u0648', u'char-2=\\u0648', u'char-2:0=\\u0648\\u06a9\\u0648', u'char-2:-1=\\u0648\\u06a9', u'char-3:0=\\u0645\\u0648\\u06a9\\u0648', u'char-3:-1=\\u0645\\u0648\\u06a9', u'char+1=\\u0646', u'char:+1=\\u0648\\u0646', u'char+2=\\u0642', u'char:+2=\\u0648\\u0646\\u0642', u'char+1:+2=\\u0646\\u0642', u'char:+3=\\u0648\\u0646\\u0642\\u0635', u'char+1:+3=\\u0646\\u0642\\u0635'], ['bias', u'char=\\u0646', 'char.isdigit=false', 'char.isnonjoiner=false', 'char.category=Lo', 'char.direction=AL', u'char-1=\\u0648', u'char-1:0=\\u0648\\u0646', u'char-2=\\u06a9', u'char-2:0=\\u06a9\\u0648\\u0646', u'char-2:-1=\\u06a9\\u0648', u'char-3:0=\\u0648\\u06a9\\u0648\\u0646', u'char-3:-1=\\u0648\\u06a9\\u0648', u'char+1=\\u0642', u'char:+1=\\u0646\\u0642', u'char+2=\\u0635', u'char:+2=\\u0646\\u0642\\u0635', u'char+1:+2=\\u0642\\u0635', u'char:+3=\\u0646\\u0642\\u0635\\u0627', u'char+1:+3=\\u0642\\u0635\\u0627'], ['bias', u'char=\\u0642', 'char.isdigit=false', 'char.isnonjoiner=false', 'char.category=Lo', 'char.direction=AL', u'char-1=\\u0646', u'char-1:0=\\u0646\\u0642', u'char-2=\\u0648', u'char-2:0=\\u0648\\u0646\\u0642', u'char-2:-1=\\u0648\\u0646', u'char-3:0=\\u06a9\\u0648\\u0646\\u0642', u'char-3:-1=\\u06a9\\u0648\\u0646', u'char+1=\\u0635', u'char:+1=\\u0642\\u0635', u'char+2=\\u0627', u'char:+2=\\u0642\\u0635\\u0627', u'char+1:+2=\\u0635\\u0627', u'char:+3=\\u0642\\u0635\\u0627\\u0646', u'char+1:+3=\\u0635\\u0627\\u0646'], ['bias', u'char=\\u0635', 'char.isdigit=false', 'char.isnonjoiner=false', 'char.category=Lo', 'char.direction=AL', u'char-1=\\u0642', u'char-1:0=\\u0642\\u0635', u'char-2=\\u0646', u'char-2:0=\\u0646\\u0642\\u0635', u'char-2:-1=\\u0646\\u0642', u'char-3:0=\\u0648\\u0646\\u0642\\u0635', u'char-3:-1=\\u0648\\u0646\\u0642', u'char+1=\\u0627', u'char:+1=\\u0635\\u0627', u'char+2=\\u0646', u'char:+2=\\u0635\\u0627\\u0646', u'char+1:+2=\\u0627\\u0646', u'char:+3=\\u0635\\u0627\\u0646\\u0646', u'char+1:+3=\\u0627\\u0646\\u0646'], ['bias', u'char=\\u0627', 'char.isdigit=false', 'char.isnonjoiner=true', 'char.category=Lo', 'char.direction=AL', u'char-1=\\u0635', u'char-1:0=\\u0635\\u0627', u'char-2=\\u0642', u'char-2:0=\\u0642\\u0635\\u0627', u'char-2:-1=\\u0642\\u0635', u'char-3:0=\\u0646\\u0642\\u0635\\u0627', u'char-3:-1=\\u0646\\u0642\\u0635', u'char+1=\\u0646', u'char:+1=\\u0627\\u0646', u'char+2=\\u0646', u'char:+2=\\u0627\\u0646\\u0646', u'char+1:+2=\\u0646\\u0646', u'char:+3=\\u0627\\u0646\\u0646\\u06c1', u'char+1:+3=\\u0646\\u0646\\u06c1'], ['bias', u'char=\\u0646', 'char.isdigit=false', 'char.isnonjoiner=false', 'char.category=Lo', 'char.direction=AL', u'char-1=\\u0627', u'char-1:0=\\u0627\\u0646', u'char-2=\\u0635', u'char-2:0=\\u0635\\u0627\\u0646', u'char-2:-1=\\u0635\\u0627', u'char-3:0=\\u0642\\u0635\\u0627\\u0646', u'char-3:-1=\\u0642\\u0635\\u0627', u'char+1=\\u0646', u'char:+1=\\u0646\\u0646', u'char+2=\\u06c1', u'char:+2=\\u0646\\u0646\\u06c1', u'char+1:+2=\\u0646\\u06c1', u'char:+3=\\u0646\\u0646\\u06c1\\u06cc', u'char+1:+3=\\u0646\\u06c1\\u06cc'], ['bias', u'char=\\u0646', 'char.isdigit=false', 'char.isnonjoiner=false', 'char.category=Lo', 'char.direction=AL', u'char-1=\\u0646', u'char-1:0=\\u0646\\u0646', u'char-2=\\u0627', u'char-2:0=\\u0627\\u0646\\u0646', u'char-2:-1=\\u0627\\u0646', u'char-3:0=\\u0635\\u0627\\u0646\\u0646', u'char-3:-1=\\u0635\\u0627\\u0646', u'char+1=\\u06c1', u'char:+1=\\u0646\\u06c1', u'char+2=\\u06cc', u'char:+2=\\u0646\\u06c1\\u06cc', u'char+1:+2=\\u06c1\\u06cc', u'char:+3=\\u0646\\u06c1\\u06cc\\u06ba', u'char+1:+3=\\u06c1\\u06cc\\u06ba'], ['bias', u'char=\\u06c1', 'char.isdigit=false', 'char.isnonjoiner=false', 'char.category=Lo', 'char.direction=AL', u'char-1=\\u0646', u'char-1:0=\\u0646\\u06c1', u'char-2=\\u0646', u'char-2:0=\\u0646\\u0646\\u06c1', u'char-2:-1=\\u0646\\u0646', u'char-3:0=\\u0627\\u0646\\u0646\\u06c1', u'char-3:-1=\\u0627\\u0646\\u0646', u'char+1=\\u06cc', u'char:+1=\\u06c1\\u06cc', u'char+2=\\u06ba', u'char:+2=\\u06c1\\u06cc\\u06ba', u'char+1:+2=\\u06cc\\u06ba', u'char:+3=\\u06c1\\u06cc\\u06ba\\u067e', u'char+1:+3=\\u06cc\\u06ba\\u067e'], ['bias', u'char=\\u06cc', 'char.isdigit=false', 'char.isnonjoiner=false', 'char.category=Lo', 'char.direction=AL', u'char-1=\\u06c1', u'char-1:0=\\u06c1\\u06cc', u'char-2=\\u0646', u'char-2:0=\\u0646\\u06c1\\u06cc', u'char-2:-1=\\u0646\\u06c1', u'char-3:0=\\u0646\\u0646\\u06c1\\u06cc', u'char-3:-1=\\u0646\\u0646\\u06c1', u'char+1=\\u06ba', u'char:+1=\\u06cc\\u06ba', u'char+2=\\u067e', u'char:+2=\\u06cc\\u06ba\\u067e', u'char+1:+2=\\u06ba\\u067e', u'char:+3=\\u06cc\\u06ba\\u067e\\u06c1', u'char+1:+3=\\u06ba\\u067e\\u06c1'], ['bias', u'char=\\u06ba', 'char.isdigit=false', 'char.isnonjoiner=false', 'char.category=Lo', 'char.direction=AL', u'char-1=\\u06cc', u'char-1:0=\\u06cc\\u06ba', u'char-2=\\u06c1', u'char-2:0=\\u06c1\\u06cc\\u06ba', u'char-2:-1=\\u06c1\\u06cc', u'char-3:0=\\u0646\\u06c1\\u06cc\\u06ba', u'char-3:-1=\\u0646\\u06c1\\u06cc', u'char+1=\\u067e', u'char:+1=\\u06ba\\u067e', u'char+2=\\u06c1', u'char:+2=\\u06ba\\u067e\\u06c1', u'char+1:+2=\\u067e\\u06c1', u'char:+3=\\u06ba\\u067e\\u06c1\\u0646', u'char+1:+3=\\u067e\\u06c1\\u0646'], ['bias', u'char=\\u067e', 'char.isdigit=false', 'char.isnonjoiner=false', 'char.category=Lo', 'char.direction=AL', u'char-1=\\u06ba', u'char-1:0=\\u06ba\\u067e', u'char-2=\\u06cc', u'char-2:0=\\u06cc\\u06ba\\u067e', u'char-2:-1=\\u06cc\\u06ba', u'char-3:0=\\u06c1\\u06cc\\u06ba\\u067e', u'char-3:-1=\\u06c1\\u06cc\\u06ba', u'char+1=\\u06c1', u'char:+1=\\u067e\\u06c1', u'char+2=\\u0646', u'char:+2=\\u067e\\u06c1\\u0646', u'char+1:+2=\\u06c1\\u0646', u'char:+3=\\u067e\\u06c1\\u0646\\u0686', u'char+1:+3=\\u06c1\\u0646\\u0686'], ['bias', u'char=\\u06c1', 'char.isdigit=false', 'char.isnonjoiner=false', 'char.category=Lo', 'char.direction=AL', u'char-1=\\u067e', u'char-1:0=\\u067e\\u06c1', u'char-2=\\u06ba', u'char-2:0=\\u06ba\\u067e\\u06c1', u'char-2:-1=\\u06ba\\u067e', u'char-3:0=\\u06cc\\u06ba\\u067e\\u06c1', u'char-3:-1=\\u06cc\\u06ba\\u067e', u'char+1=\\u0646', u'char:+1=\\u06c1\\u0646', u'char+2=\\u0686', u'char:+2=\\u06c1\\u0646\\u0686', u'char+1:+2=\\u0646\\u0686', u'char:+3=\\u06c1\\u0646\\u0686\\u0627', u'char+1:+3=\\u0646\\u0686\\u0627'], ['bias', u'char=\\u0646', 'char.isdigit=false', 'char.isnonjoiner=false', 'char.category=Lo', 'char.direction=AL', u'char-1=\\u06c1', u'char-1:0=\\u06c1\\u0646', u'char-2=\\u067e', u'char-2:0=\\u067e\\u06c1\\u0646', u'char-2:-1=\\u067e\\u06c1', u'char-3:0=\\u06ba\\u067e\\u06c1\\u0646', u'char-3:-1=\\u06ba\\u067e\\u06c1', u'char+1=\\u0686', u'char:+1=\\u0646\\u0686', u'char+2=\\u0627', u'char:+2=\\u0646\\u0686\\u0627', u'char+1:+2=\\u0686\\u0627', u'char:+3=\\u0646\\u0686\\u0627\\u062a', u'char+1:+3=\\u0686\\u0627\\u062a'], ['bias', u'char=\\u0686', 'char.isdigit=false', 'char.isnonjoiner=false', 'char.category=Lo', 'char.direction=AL', u'char-1=\\u0646', u'char-1:0=\\u0646\\u0686', u'char-2=\\u06c1', u'char-2:0=\\u06c1\\u0646\\u0686', u'char-2:-1=\\u06c1\\u0646', u'char-3:0=\\u067e\\u06c1\\u0646\\u0686', u'char-3:-1=\\u067e\\u06c1\\u0646', u'char+1=\\u0627', u'char:+1=\\u0686\\u0627', u'char+2=\\u062a', u'char:+2=\\u0686\\u0627\\u062a', u'char+1:+2=\\u0627\\u062a', u'char:+3=\\u0686\\u0627\\u062a\\u06cc', u'char+1:+3=\\u0627\\u062a\\u06cc'], ['bias', u'char=\\u0627', 'char.isdigit=false', 'char.isnonjoiner=true', 'char.category=Lo', 'char.direction=AL', u'char-1=\\u0686', u'char-1:0=\\u0686\\u0627', u'char-2=\\u0646', u'char-2:0=\\u0646\\u0686\\u0627', u'char-2:-1=\\u0646\\u0686', u'char-3:0=\\u06c1\\u0646\\u0686\\u0627', u'char-3:-1=\\u06c1\\u0646\\u0686', u'char+1=\\u062a', u'char:+1=\\u0627\\u062a', u'char+2=\\u06cc', u'char:+2=\\u0627\\u062a\\u06cc', u'char+1:+2=\\u062a\\u06cc', u'char:+3=\\u0627\\u062a\\u06cc\\u06c1', u'char+1:+3=\\u062a\\u06cc\\u06c1'], ['bias', u'char=\\u062a', 'char.isdigit=false', 'char.isnonjoiner=false', 'char.category=Lo', 'char.direction=AL', u'char-1=\\u0627', u'char-1:0=\\u0627\\u062a', u'char-2=\\u0686', u'char-2:0=\\u0686\\u0627\\u062a', u'char-2:-1=\\u0686\\u0627', u'char-3:0=\\u0646\\u0686\\u0627\\u062a', u'char-3:-1=\\u0646\\u0686\\u0627', u'char+1=\\u06cc', u'char:+1=\\u062a\\u06cc', u'char+2=\\u06c1', u'char:+2=\\u062a\\u06cc\\u06c1', u'char+1:+2=\\u06cc\\u06c1', u'char:+3=\\u062a\\u06cc\\u06c1\\u06d2', u'char+1:+3=\\u06cc\\u06c1\\u06d2'], ['bias', u'char=\\u06cc', 'char.isdigit=false', 'char.isnonjoiner=false', 'char.category=Lo', 'char.direction=AL', u'char-1=\\u062a', u'char-1:0=\\u062a\\u06cc', u'char-2=\\u0627', u'char-2:0=\\u0627\\u062a\\u06cc', u'char-2:-1=\\u0627\\u062a', u'char-3:0=\\u0686\\u0627\\u062a\\u06cc', u'char-3:-1=\\u0686\\u0627\\u062a', u'char+1=\\u06c1', u'char:+1=\\u06cc\\u06c1', u'char+2=\\u06d2', u'char:+2=\\u06cc\\u06c1\\u06d2', u'char+1:+2=\\u06c1\\u06d2', u'char:+3=\\u06cc\\u06c1\\u06d2\\n', u'char+1:+3=\\u06c1\\u06d2\\n'], ['bias', u'char=\\u06c1', 'char.isdigit=false', 'char.isnonjoiner=false', 'char.category=Lo', 'char.direction=AL', u'char-1=\\u06cc', u'char-1:0=\\u06cc\\u06c1', u'char-2=\\u062a', u'char-2:0=\\u062a\\u06cc\\u06c1', u'char-2:-1=\\u062a\\u06cc', u'char-3:0=\\u0627\\u062a\\u06cc\\u06c1', u'char-3:-1=\\u0627\\u062a\\u06cc', u'char+1=\\u06d2', u'char:+1=\\u06c1\\u06d2', u'char+2=\\n', u'char:+2=\\u06c1\\u06d2\\n', u'char+1:+2=\\u06d2\\n'], ['bias', u'char=\\u06d2', 'char.isdigit=false', 'char.isnonjoiner=true', 'char.category=Lo', 'char.direction=AL', u'char-1=\\u06c1', u'char-1:0=\\u06c1\\u06d2', u'char-2=\\u06cc', u'char-2:0=\\u06cc\\u06c1\\u06d2', u'char-2:-1=\\u06cc\\u06c1', u'char-3:0=\\u062a\\u06cc\\u06c1\\u06d2', u'char-3:-1=\\u062a\\u06cc\\u06c1', u'char+1=\\n', u'char:+1=\\u06d2\\n'], ['bias', u'char=\\n', 'char.isdigit=false', 'char.isnonjoiner=false', 'char.category=Cc', 'char.direction=B', u'char-1=\\u06d2', u'char-1:0=\\u06d2\\n', u'char-2=\\u06c1', u'char-2:0=\\u06c1\\u06d2\\n', u'char-2:-1=\\u06c1\\u06d2', u'char-3:0=\\u06cc\\u06c1\\u06d2\\n', u'char-3:-1=\\u06cc\\u06c1\\u06d2', 'EOS']]\n",
      "['0', '0', '0', '0', '1', '0', '0', '0', '0', '1', '0', '1', '0', '0', '1', '0', '1', '0', '0', '0', '0', '0', '1', '0', '0', '2', '0', '0', '0', '1', '0', '1', '0', '0', '0', '1', '0', '1', '0', '0', '1', '0', '1', '0', '0', '0', '0', '1', '0', '0', '0', '1', '0', '0', '0', '0', '0', '0', '1', '0', '0']\n"
     ]
    }
   ],
   "source": [
    "print X_train[0]\n",
    "print y_train[0]"
   ]
  },
  {
   "cell_type": "code",
   "execution_count": 208,
   "metadata": {
    "collapsed": true
   },
   "outputs": [],
   "source": [
    "trainer = pycrfsuite.Trainer(verbose=False)\n",
    "\n",
    "for xseq, yseq in zip(X_train, y_train):\n",
    "    trainer.append(xseq, yseq)"
   ]
  },
  {
   "cell_type": "code",
   "execution_count": 209,
   "metadata": {
    "collapsed": true
   },
   "outputs": [],
   "source": [
    "trainer.set_params({\n",
    "    'c1': 1.0, \n",
    "    'c2': 1e-3,\n",
    "    'max_iterations': 60,\n",
    "    'feature.possible_transitions': True\n",
    "})"
   ]
  },
  {
   "cell_type": "code",
   "execution_count": 210,
   "metadata": {
    "collapsed": false
   },
   "outputs": [],
   "source": [
    "trainer.train('urdu-text-segmentation.crfsuite')"
   ]
  },
  {
   "cell_type": "code",
   "execution_count": 211,
   "metadata": {
    "collapsed": false
   },
   "outputs": [
    {
     "data": {
      "text/plain": [
       "<contextlib.closing at 0x82266128>"
      ]
     },
     "execution_count": 211,
     "metadata": {},
     "output_type": "execute_result"
    }
   ],
   "source": [
    "tagger = pycrfsuite.Tagger()\n",
    "tagger.open('urdu-text-segmentation.crfsuite')"
   ]
  },
  {
   "cell_type": "code",
   "execution_count": 212,
   "metadata": {
    "collapsed": false
   },
   "outputs": [],
   "source": [
    "def segment_sentence(sentence):\n",
    "    sentence = sentence.replace(\" \", \"\")\n",
    "    sentence = sentence.replace(u\"\\u200C\", \"\") #Uncomment to incorporate ZWNJ\n",
    "    prediction = tagger.tag(create_sentence_features(sentence))\n",
    "    print prediction\n",
    "    complete = \"\"\n",
    "    for i, p in enumerate(prediction):\n",
    "        if p == \"1\":\n",
    "            complete += \" \" + sentence[i]\n",
    "        #Uncomment to incorporate ZWNJ\n",
    "        elif p == \"2\":\n",
    "            complete += u\"\\u200C\" + sentence[i]\n",
    "        else:\n",
    "            complete += sentence[i]\n",
    "    return complete"
   ]
  },
  {
   "cell_type": "code",
   "execution_count": 213,
   "metadata": {
    "collapsed": false
   },
   "outputs": [
    {
     "name": "stdout",
     "output_type": "stream",
     "text": [
      "['0', '0', '1', '0', '1', '0', '0', '0', '2', '0', '0', '0', '1', '0', '0', '0', '0', '0', '1', '0', '1', '0', '0', '0', '1', '0', '0', '0', '0', '1', '0', '0', '0', '1', '0', '1', '0', '0', '0', '0', '0', '1', '0', '0', '1', '0', '1', '0', '0', '0', '0', '1', '0', '0', '0', '1', '0', '0', '0', '1', '0', '0', '0', '1', '0', '1', '0', '0', '1', '0', '0', '0', '1', '0', '1', '0', '0', '0', '1', '0']\n",
      "ان کو براہ‌راست موازنے کے قابل بناتے ہوئے ہر اشاریہ ۱۰۰ کو مساوی کرتے ہوتے ۱۹۶۹ کے بند ہونے پر واقع ہے\n"
     ]
    }
   ],
   "source": [
    "print(segment_sentence(u\"ان کو براہ‌راست موازنے کے قابل بناتے ہوئے ہر اشاریہ ۱۰۰ کو مساوی کرتے ہوتے ۱۹۶۹ کے بند ہونے پر واقع ہے\"))"
   ]
  },
  {
   "cell_type": "code",
   "execution_count": 216,
   "metadata": {
    "collapsed": false
   },
   "outputs": [],
   "source": [
    "#tp = 0.0\n",
    "#fp = 0.0\n",
    "#fn = 0.0\n",
    "#n_correct = 0.0\n",
    "#n_incorrect = 0.0\n",
    "y_true = list()\n",
    "y_pred = list()\n",
    "for s in prepared_sentences[-825:]:\n",
    "    prediction = tagger.tag(create_sentence_features(s))\n",
    "    y_pred.extend(prediction)\n",
    "    correct = create_sentence_labels(s)\n",
    "    y_true.extend(correct)\n",
    "#    zipped = list(zip(prediction, correct))\n",
    "#    tp +=        len([_ for l, c in zipped if l == c and l == \"1\"])\n",
    "#    fp +=        len([_ for l, c in zipped if l == \"1\" and c == \"0\"])\n",
    "#    fn +=        len([_ for l, c in zipped if l == \"0\" and c == \"1\"])\n",
    "#    n_incorrect += len([_ for l, c in zipped if l != c])\n",
    "#    n_correct   += len([_ for l, c in zipped if l == c])"
   ]
  },
  {
   "cell_type": "code",
   "execution_count": 217,
   "metadata": {
    "collapsed": false
   },
   "outputs": [
    {
     "name": "stdout",
     "output_type": "stream",
     "text": [
      "             precision    recall  f1-score   support\n",
      "\n",
      "   No space       0.99      0.99      0.99     59690\n",
      "      Space       0.97      0.97      0.97     20316\n",
      "       ZWNJ       0.90      0.79      0.84      1123\n",
      "\n",
      "avg / total       0.98      0.98      0.98     81129\n",
      "\n"
     ]
    }
   ],
   "source": [
    "target_names = ['No space', 'Space', 'ZWNJ']\n",
    "print(classification_report(y_true, y_pred, target_names=target_names))"
   ]
  },
  {
   "cell_type": "code",
   "execution_count": null,
   "metadata": {
    "collapsed": true
   },
   "outputs": [],
   "source": []
  }
 ],
 "metadata": {
  "kernelspec": {
   "display_name": "Python 2",
   "language": "python",
   "name": "python2"
  },
  "language_info": {
   "codemirror_mode": {
    "name": "ipython",
    "version": 2
   },
   "file_extension": ".py",
   "mimetype": "text/x-python",
   "name": "python",
   "nbconvert_exporter": "python",
   "pygments_lexer": "ipython2",
   "version": "2.7.10"
  }
 },
 "nbformat": 4,
 "nbformat_minor": 0
}
