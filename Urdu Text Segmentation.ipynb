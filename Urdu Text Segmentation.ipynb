{
 "cells": [
  {
   "cell_type": "code",
   "execution_count": 1,
   "metadata": {
    "collapsed": false
   },
   "outputs": [],
   "source": [
    "import sys\n",
    "import re\n",
    "import glob\n",
    "import codecs\n",
    "import unicodedata\n",
    "import os\n",
    "import wave\n",
    "import contextlib\n",
    "import numpy as np\n",
    "import pycrfsuite"
   ]
  },
  {
   "cell_type": "code",
   "execution_count": 124,
   "metadata": {
    "collapsed": false
   },
   "outputs": [],
   "source": [
    "'''f = codecs.open('train_pos.txt', 'r', encoding='utf-8')\n",
    "p = codecs.open('train_normalized.txt', 'w', encoding='utf-8')\n",
    "for line in f:\n",
    "    line = unicodedata.normalize('NFC',line)\n",
    "    line = re.sub(r\"<[A-Z]{1,}\\${0,}>\", \" \", line)\n",
    "    line = re.sub(r\"-\", \" \", line)\n",
    "    line = re.sub(r\"<\", \" \", line)\n",
    "    line = re.sub(r\">\", \" \", line)\n",
    "    line = re.sub(r\"#\", \" \", line)\n",
    "    line = re.sub(r\"/\", \" \", line)\n",
    "    line = re.sub(r\"\\\\\", \" \", line)\n",
    "    line = re.sub(r\",\", \" \", line)\n",
    "    line = re.sub(u\"،\", \" \", line)\n",
    "    line = re.sub(u\"؛\", \" \", line)\n",
    "    line = re.sub(u\"؟\", \" \", line)\n",
    "    line = re.sub(r\";\", \" \", line)\n",
    "    line = re.sub(r\"\\\"\", \" \", line)\n",
    "    line = re.sub(u\"۔\", \" \", line)\n",
    "    line = re.sub(r\"\\.\", \" \", line)\n",
    "    line = re.sub(r\":\", \" \", line)\n",
    "    line = re.sub(r\"!\", \" \", line)\n",
    "    line = re.sub(r\"\\'\", \" \", line)\n",
    "    line = re.sub(r\"%\", u\"٪\", line)\n",
    "    line = re.sub(u\"ِ\", \"\", line)\n",
    "    line = re.sub(u\"ُ\", \"\", line)\n",
    "    line = re.sub(u\"َ\", \"\", line)\n",
    "    line = re.sub(u\"ْ\", \"\", line)\n",
    "    line = re.sub(u\"ٰ\", \"\", line)\n",
    "    line = re.sub(u\"ً\", \"\", line)\n",
    "    line = re.sub(u\"ّ\", \"\", line)\n",
    "    line = re.sub(u\"\\u200C{2,}\", \" \", line)\n",
    "    line = re.sub(r\"\\s{2,}\", \" \", line)\n",
    "    p.write(line.strip()+'\\n')\n",
    "f.close()\n",
    "p.close()'''"
   ]
  },
  {
   "cell_type": "code",
   "execution_count": 129,
   "metadata": {
    "collapsed": true
   },
   "outputs": [],
   "source": [
    "'''f = codecs.open('train_normalized.txt', 'r', encoding='utf-8')\n",
    "p = codecs.open('unique_characters.txt', 'w', encoding='utf-8')\n",
    "characters = list()\n",
    "for line in f:\n",
    "    for letter in line:\n",
    "        characters.append(letter)\n",
    "f.close()\n",
    "unique_characters = list(set(characters))\n",
    "for i in unique_characters:\n",
    "    p.write(i+'\\n')\n",
    "p.close()'''"
   ]
  },
  {
   "cell_type": "code",
   "execution_count": 2,
   "metadata": {
    "collapsed": false
   },
   "outputs": [
    {
     "name": "stdout",
     "output_type": "stream",
     "text": [
      "4325\n",
      "منصوبے جو کہ مشتہرین کو اشتہاروں کے خرچ مستحکم رکھنے یا بڑھانے کے لیے بچت دیتے ہیں اب ہفت‌روزہ اخباروں کے لیے مستقل عمل بن گئے ہیں اور اس نے نیوزویک ٹائم وارنر انکارپوریٹڈ کے ٹائم میگزین اور مورٹیمر بی زکرمین کے یو ایس نیوز اور ورلڈ رپورٹ میں شدید مقابلے کو نمایاں کیا ہے\n",
      "\n"
     ]
    }
   ],
   "source": [
    "sentences = list()\n",
    "f = codecs.open('train_normalized.txt', 'r', encoding='utf-8')\n",
    "for line in f:\n",
    "    sentences.append(line)\n",
    "f.close()\n",
    "\n",
    "print len(sentences)\n",
    "print sentences[100]"
   ]
  },
  {
   "cell_type": "code",
   "execution_count": 32,
   "metadata": {
    "collapsed": true
   },
   "outputs": [],
   "source": [
    "def prepare_sentence(sentence):\n",
    "    sentence = re.sub(u\"\\s\\u200C\",u\"\\u200C\", sentence)\n",
    "    sentence = re.sub(u\"\\u200C\\s\",u\"\\u200C\", sentence)\n",
    "    \n",
    "    lengths = [len(w) for w in sentence.split(\" \")]\n",
    "    positions = []\n",
    "\n",
    "    next_pos = 0\n",
    "    for length in lengths:\n",
    "        next_pos = next_pos + length\n",
    "        positions.append(next_pos)\n",
    "    concatenated = sentence.replace(\" \", \"\")\n",
    "\n",
    "    chars = [c for c in concatenated]\n",
    "    labels = [0 if not i in positions else 1 for i, c in enumerate(concatenated)]\n",
    "    #Uncomment to incorporate ZWNJ\n",
    "    '''for i, c in enumerate(chars):\n",
    "        if c == u\"\\u200C\" and i+1 < len(chars):\n",
    "            labels[i+1] = 2\n",
    "            del chars[i]\n",
    "            del labels[i]'''\n",
    "    \n",
    "    return list(zip(chars, labels))"
   ]
  },
  {
   "cell_type": "code",
   "execution_count": 33,
   "metadata": {
    "collapsed": false
   },
   "outputs": [
    {
     "name": "stdout",
     "output_type": "stream",
     "text": [
      "[(u'\\u0645', 0), (u'\\u0646', 0), (u'\\u0635', 0), (u'\\u0648', 0), (u'\\u0628', 0), (u'\\u06d2', 0), (u'\\u062c', 1), (u'\\u0648', 0), (u'\\u06a9', 1), (u'\\u06c1', 0), (u'\\u0645', 1), (u'\\u0634', 0), (u'\\u062a', 0), (u'\\u06c1', 0), (u'\\u0631', 0), (u'\\u06cc', 0), (u'\\u0646', 0), (u'\\u06a9', 1), (u'\\u0648', 0), (u'\\u0627', 1), (u'\\u0634', 0), (u'\\u062a', 0), (u'\\u06c1', 0), (u'\\u0627', 0), (u'\\u0631', 0), (u'\\u0648', 0), (u'\\u06ba', 0), (u'\\u06a9', 1), (u'\\u06d2', 0), (u'\\u062e', 1), (u'\\u0631', 0), (u'\\u0686', 0), (u'\\u0645', 1), (u'\\u0633', 0), (u'\\u062a', 0), (u'\\u062d', 0), (u'\\u06a9', 0), (u'\\u0645', 0), (u'\\u0631', 1), (u'\\u06a9', 0), (u'\\u06be', 0), (u'\\u0646', 0), (u'\\u06d2', 0), (u'\\u06cc', 1), (u'\\u0627', 0), (u'\\u0628', 1), (u'\\u0691', 0), (u'\\u06be', 0), (u'\\u0627', 0), (u'\\u0646', 0), (u'\\u06d2', 0), (u'\\u06a9', 1), (u'\\u06d2', 0), (u'\\u0644', 1), (u'\\u06cc', 0), (u'\\u06d2', 0), (u'\\u0628', 1), (u'\\u0686', 0), (u'\\u062a', 0), (u'\\u062f', 1), (u'\\u06cc', 0), (u'\\u062a', 0), (u'\\u06d2', 0), (u'\\u06c1', 1), (u'\\u06cc', 0), (u'\\u06ba', 0), (u'\\u0627', 1), (u'\\u0628', 0), (u'\\u06c1', 1), (u'\\u0641', 0), (u'\\u062a', 0), (u'\\u200c', 0), (u'\\u0631', 0), (u'\\u0648', 0), (u'\\u0632', 0), (u'\\u06c1', 0), (u'\\u0627', 1), (u'\\u062e', 0), (u'\\u0628', 0), (u'\\u0627', 0), (u'\\u0631', 0), (u'\\u0648', 0), (u'\\u06ba', 0), (u'\\u06a9', 1), (u'\\u06d2', 0), (u'\\u0644', 1), (u'\\u06cc', 0), (u'\\u06d2', 0), (u'\\u0645', 1), (u'\\u0633', 0), (u'\\u062a', 0), (u'\\u0642', 0), (u'\\u0644', 0), (u'\\u0639', 1), (u'\\u0645', 0), (u'\\u0644', 0), (u'\\u0628', 1), (u'\\u0646', 0), (u'\\u06af', 1), (u'\\u0626', 0), (u'\\u06d2', 0), (u'\\u06c1', 1), (u'\\u06cc', 0), (u'\\u06ba', 0), (u'\\u0627', 1), (u'\\u0648', 0), (u'\\u0631', 0), (u'\\u0627', 1), (u'\\u0633', 0), (u'\\u0646', 1), (u'\\u06d2', 0), (u'\\u0646', 1), (u'\\u06cc', 0), (u'\\u0648', 0), (u'\\u0632', 0), (u'\\u0648', 0), (u'\\u06cc', 0), (u'\\u06a9', 0), (u'\\u0679', 1), (u'\\u0627', 0), (u'\\u0626', 0), (u'\\u0645', 0), (u'\\u0648', 1), (u'\\u0627', 0), (u'\\u0631', 0), (u'\\u0646', 0), (u'\\u0631', 0), (u'\\u0627', 1), (u'\\u0646', 0), (u'\\u06a9', 0), (u'\\u0627', 0), (u'\\u0631', 0), (u'\\u067e', 0), (u'\\u0648', 0), (u'\\u0631', 0), (u'\\u06cc', 0), (u'\\u0679', 0), (u'\\u0688', 0), (u'\\u06a9', 1), (u'\\u06d2', 0), (u'\\u0679', 1), (u'\\u0627', 0), (u'\\u0626', 0), (u'\\u0645', 0), (u'\\u0645', 1), (u'\\u06cc', 0), (u'\\u06af', 0), (u'\\u0632', 0), (u'\\u06cc', 0), (u'\\u0646', 0), (u'\\u0627', 1), (u'\\u0648', 0), (u'\\u0631', 0), (u'\\u0645', 1), (u'\\u0648', 0), (u'\\u0631', 0), (u'\\u0679', 0), (u'\\u06cc', 0), (u'\\u0645', 0), (u'\\u0631', 0), (u'\\u0628', 1), (u'\\u06cc', 0), (u'\\u0632', 1), (u'\\u06a9', 0), (u'\\u0631', 0), (u'\\u0645', 0), (u'\\u06cc', 0), (u'\\u0646', 0), (u'\\u06a9', 1), (u'\\u06d2', 0), (u'\\u06cc', 1), (u'\\u0648', 0), (u'\\u0627', 1), (u'\\u06cc', 0), (u'\\u0633', 0), (u'\\u0646', 1), (u'\\u06cc', 0), (u'\\u0648', 0), (u'\\u0632', 0), (u'\\u0627', 1), (u'\\u0648', 0), (u'\\u0631', 0), (u'\\u0648', 1), (u'\\u0631', 0), (u'\\u0644', 0), (u'\\u0688', 0), (u'\\u0631', 1), (u'\\u067e', 0), (u'\\u0648', 0), (u'\\u0631', 0), (u'\\u0679', 0), (u'\\u0645', 1), (u'\\u06cc', 0), (u'\\u06ba', 0), (u'\\u0634', 1), (u'\\u062f', 0), (u'\\u06cc', 0), (u'\\u062f', 0), (u'\\u0645', 1), (u'\\u0642', 0), (u'\\u0627', 0), (u'\\u0628', 0), (u'\\u0644', 0), (u'\\u06d2', 0), (u'\\u06a9', 1), (u'\\u0648', 0), (u'\\u0646', 1), (u'\\u0645', 0), (u'\\u0627', 0), (u'\\u06cc', 0), (u'\\u0627', 0), (u'\\u06ba', 0), (u'\\u06a9', 1), (u'\\u06cc', 0), (u'\\u0627', 0), (u'\\u06c1', 1), (u'\\u06d2', 0), (u'\\n', 0)]\n"
     ]
    }
   ],
   "source": [
    "prepared_sentences = list()\n",
    "for sentence in sentences:    \n",
    "    prepared_sentences.append(prepare_sentence(sentence))\n",
    "    \n",
    "print([d for d in prepared_sentences[100]])"
   ]
  },
  {
   "cell_type": "code",
   "execution_count": 34,
   "metadata": {
    "collapsed": true
   },
   "outputs": [],
   "source": [
    "def create_char_features(sentence, i):\n",
    "    features = [\n",
    "        'bias',\n",
    "        'char=' + sentence[i][0] \n",
    "    ]\n",
    "    \n",
    "    if i >= 1:\n",
    "        features.extend([\n",
    "            'char-1=' + sentence[i-1][0],\n",
    "            'char-1:0=' + sentence[i-1][0] + sentence[i][0],\n",
    "        ])\n",
    "    else:\n",
    "        features.append(\"BOS\")\n",
    "        \n",
    "    if i >= 2:\n",
    "        features.extend([\n",
    "            'char-2=' + sentence[i-2][0],\n",
    "            'char-2:0=' + sentence[i-2][0] + sentence[i-1][0] + sentence[i][0],\n",
    "            'char-2:-1=' + sentence[i-2][0] + sentence[i-1][0],\n",
    "        ])\n",
    "        \n",
    "    if i >= 3:\n",
    "        features.extend([\n",
    "            'char-3:0=' + sentence[i-3][0] + sentence[i-2][0] + sentence[i-1][0] + sentence[i][0],\n",
    "            'char-3:-1=' + sentence[i-3][0] + sentence[i-2][0] + sentence[i-1][0],\n",
    "        ])\n",
    "        \n",
    "        \n",
    "    if i + 1 < len(sentence):\n",
    "        features.extend([\n",
    "            'char+1=' + sentence[i+1][0],\n",
    "            'char:+1=' + sentence[i][0] + sentence[i+1][0],\n",
    "        ])\n",
    "    else:\n",
    "        features.append(\"EOS\")\n",
    "        \n",
    "    if i + 2 < len(sentence):\n",
    "        features.extend([\n",
    "            'char+2=' + sentence[i+2][0],\n",
    "            'char:+2=' + sentence[i][0] + sentence[i+1][0] + sentence[i+2][0],\n",
    "            'char+1:+2=' + sentence[i+1][0] + sentence[i+2][0],\n",
    "        ])\n",
    "        \n",
    "    if i + 3 < len(sentence):\n",
    "        features.extend([\n",
    "            'char:+3=' + sentence[i][0] + sentence[i+1][0] + sentence[i+2][0]+ sentence[i+3][0],\n",
    "            'char+1:+3=' + sentence[i+1][0] + sentence[i+2][0] + sentence[i+3][0],\n",
    "        ])\n",
    "    \n",
    "    return features\n",
    "\n",
    "\n",
    "\n",
    "def create_sentence_features(prepared_sentence):\n",
    "    return [create_char_features(prepared_sentence, i) for i in range(len(prepared_sentence))]\n",
    "\n",
    "def create_sentence_labels(prepared_sentence):\n",
    "    return [str(part[1]) for part in prepared_sentence]"
   ]
  },
  {
   "cell_type": "code",
   "execution_count": 35,
   "metadata": {
    "collapsed": true
   },
   "outputs": [],
   "source": [
    "X_train = [create_sentence_features(ps) for ps in prepared_sentences[:-825]]\n",
    "y_train = [create_sentence_labels(ps)   for ps in prepared_sentences[:-825]]"
   ]
  },
  {
   "cell_type": "code",
   "execution_count": 36,
   "metadata": {
    "collapsed": false
   },
   "outputs": [
    {
     "name": "stdout",
     "output_type": "stream",
     "text": [
      "[['bias', u'char=\\u0627', 'BOS', u'char+1=\\u06a9', u'char:+1=\\u0627\\u06a9', u'char+2=\\u0633', u'char:+2=\\u0627\\u06a9\\u0633', u'char+1:+2=\\u06a9\\u0633', u'char:+3=\\u0627\\u06a9\\u0633\\u0679', u'char+1:+3=\\u06a9\\u0633\\u0679'], ['bias', u'char=\\u06a9', u'char-1=\\u0627', u'char-1:0=\\u0627\\u06a9', u'char+1=\\u0633', u'char:+1=\\u06a9\\u0633', u'char+2=\\u0679', u'char:+2=\\u06a9\\u0633\\u0679', u'char+1:+2=\\u0633\\u0679', u'char:+3=\\u06a9\\u0633\\u0679\\u06be', u'char+1:+3=\\u0633\\u0679\\u06be'], ['bias', u'char=\\u0633', u'char-1=\\u06a9', u'char-1:0=\\u06a9\\u0633', u'char-2=\\u0627', u'char-2:0=\\u0627\\u06a9\\u0633', u'char-2:-1=\\u0627\\u06a9', u'char+1=\\u0679', u'char:+1=\\u0633\\u0679', u'char+2=\\u06be', u'char:+2=\\u0633\\u0679\\u06be', u'char+1:+2=\\u0679\\u06be', u'char:+3=\\u0633\\u0679\\u06be\\u0633', u'char+1:+3=\\u0679\\u06be\\u0633'], ['bias', u'char=\\u0679', u'char-1=\\u0633', u'char-1:0=\\u0633\\u0679', u'char-2=\\u06a9', u'char-2:0=\\u06a9\\u0633\\u0679', u'char-2:-1=\\u06a9\\u0633', u'char-3:0=\\u0627\\u06a9\\u0633\\u0679', u'char-3:-1=\\u0627\\u06a9\\u0633', u'char+1=\\u06be', u'char:+1=\\u0679\\u06be', u'char+2=\\u0633', u'char:+2=\\u0679\\u06be\\u0633', u'char+1:+2=\\u06be\\u0633', u'char:+3=\\u0679\\u06be\\u0633\\u0627', u'char+1:+3=\\u06be\\u0633\\u0627'], ['bias', u'char=\\u06be', u'char-1=\\u0679', u'char-1:0=\\u0679\\u06be', u'char-2=\\u0633', u'char-2:0=\\u0633\\u0679\\u06be', u'char-2:-1=\\u0633\\u0679', u'char-3:0=\\u06a9\\u0633\\u0679\\u06be', u'char-3:-1=\\u06a9\\u0633\\u0679', u'char+1=\\u0633', u'char:+1=\\u06be\\u0633', u'char+2=\\u0627', u'char:+2=\\u06be\\u0633\\u0627', u'char+1:+2=\\u0633\\u0627', u'char:+3=\\u06be\\u0633\\u0627\\u0644', u'char+1:+3=\\u0633\\u0627\\u0644'], ['bias', u'char=\\u0633', u'char-1=\\u06be', u'char-1:0=\\u06be\\u0633', u'char-2=\\u0679', u'char-2:0=\\u0679\\u06be\\u0633', u'char-2:-1=\\u0679\\u06be', u'char-3:0=\\u0633\\u0679\\u06be\\u0633', u'char-3:-1=\\u0633\\u0679\\u06be', u'char+1=\\u0627', u'char:+1=\\u0633\\u0627', u'char+2=\\u0644', u'char:+2=\\u0633\\u0627\\u0644', u'char+1:+2=\\u0627\\u0644', u'char:+3=\\u0633\\u0627\\u0644\\u06c1', u'char+1:+3=\\u0627\\u0644\\u06c1'], ['bias', u'char=\\u0627', u'char-1=\\u0633', u'char-1:0=\\u0633\\u0627', u'char-2=\\u06be', u'char-2:0=\\u06be\\u0633\\u0627', u'char-2:-1=\\u06be\\u0633', u'char-3:0=\\u0679\\u06be\\u0633\\u0627', u'char-3:-1=\\u0679\\u06be\\u0633', u'char+1=\\u0644', u'char:+1=\\u0627\\u0644', u'char+2=\\u06c1', u'char:+2=\\u0627\\u0644\\u06c1', u'char+1:+2=\\u0644\\u06c1', u'char:+3=\\u0627\\u0644\\u06c1\\u067e', u'char+1:+3=\\u0644\\u06c1\\u067e'], ['bias', u'char=\\u0644', u'char-1=\\u0627', u'char-1:0=\\u0627\\u0644', u'char-2=\\u0633', u'char-2:0=\\u0633\\u0627\\u0644', u'char-2:-1=\\u0633\\u0627', u'char-3:0=\\u06be\\u0633\\u0627\\u0644', u'char-3:-1=\\u06be\\u0633\\u0627', u'char+1=\\u06c1', u'char:+1=\\u0644\\u06c1', u'char+2=\\u067e', u'char:+2=\\u0644\\u06c1\\u067e', u'char+1:+2=\\u06c1\\u067e', u'char:+3=\\u0644\\u06c1\\u067e\\u06cc', u'char+1:+3=\\u06c1\\u067e\\u06cc'], ['bias', u'char=\\u06c1', u'char-1=\\u0644', u'char-1:0=\\u0644\\u06c1', u'char-2=\\u0627', u'char-2:0=\\u0627\\u0644\\u06c1', u'char-2:-1=\\u0627\\u0644', u'char-3:0=\\u0633\\u0627\\u0644\\u06c1', u'char-3:-1=\\u0633\\u0627\\u0644', u'char+1=\\u067e', u'char:+1=\\u06c1\\u067e', u'char+2=\\u06cc', u'char:+2=\\u06c1\\u067e\\u06cc', u'char+1:+2=\\u067e\\u06cc', u'char:+3=\\u06c1\\u067e\\u06cc\\u0626', u'char+1:+3=\\u067e\\u06cc\\u0626'], ['bias', u'char=\\u067e', u'char-1=\\u06c1', u'char-1:0=\\u06c1\\u067e', u'char-2=\\u0644', u'char-2:0=\\u0644\\u06c1\\u067e', u'char-2:-1=\\u0644\\u06c1', u'char-3:0=\\u0627\\u0644\\u06c1\\u067e', u'char-3:-1=\\u0627\\u0644\\u06c1', u'char+1=\\u06cc', u'char:+1=\\u067e\\u06cc', u'char+2=\\u0626', u'char:+2=\\u067e\\u06cc\\u0626', u'char+1:+2=\\u06cc\\u0626', u'char:+3=\\u067e\\u06cc\\u0626\\u0631', u'char+1:+3=\\u06cc\\u0626\\u0631'], ['bias', u'char=\\u06cc', u'char-1=\\u067e', u'char-1:0=\\u067e\\u06cc', u'char-2=\\u06c1', u'char-2:0=\\u06c1\\u067e\\u06cc', u'char-2:-1=\\u06c1\\u067e', u'char-3:0=\\u0644\\u06c1\\u067e\\u06cc', u'char-3:-1=\\u0644\\u06c1\\u067e', u'char+1=\\u0626', u'char:+1=\\u06cc\\u0626', u'char+2=\\u0631', u'char:+2=\\u06cc\\u0626\\u0631', u'char+1:+2=\\u0626\\u0631', u'char:+3=\\u06cc\\u0626\\u0631\\u0648', u'char+1:+3=\\u0626\\u0631\\u0648'], ['bias', u'char=\\u0626', u'char-1=\\u06cc', u'char-1:0=\\u06cc\\u0626', u'char-2=\\u067e', u'char-2:0=\\u067e\\u06cc\\u0626', u'char-2:-1=\\u067e\\u06cc', u'char-3:0=\\u06c1\\u067e\\u06cc\\u0626', u'char-3:-1=\\u06c1\\u067e\\u06cc', u'char+1=\\u0631', u'char:+1=\\u0626\\u0631', u'char+2=\\u0648', u'char:+2=\\u0626\\u0631\\u0648', u'char+1:+2=\\u0631\\u0648', u'char:+3=\\u0626\\u0631\\u0648\\u0646', u'char+1:+3=\\u0631\\u0648\\u0646'], ['bias', u'char=\\u0631', u'char-1=\\u0626', u'char-1:0=\\u0626\\u0631', u'char-2=\\u06cc', u'char-2:0=\\u06cc\\u0626\\u0631', u'char-2:-1=\\u06cc\\u0626', u'char-3:0=\\u067e\\u06cc\\u0626\\u0631', u'char-3:-1=\\u067e\\u06cc\\u0626', u'char+1=\\u0648', u'char:+1=\\u0631\\u0648', u'char+2=\\u0646', u'char:+2=\\u0631\\u0648\\u0646', u'char+1:+2=\\u0648\\u0646', u'char:+3=\\u0631\\u0648\\u0646\\u06a9', u'char+1:+3=\\u0648\\u0646\\u06a9'], ['bias', u'char=\\u0648', u'char-1=\\u0631', u'char-1:0=\\u0631\\u0648', u'char-2=\\u0626', u'char-2:0=\\u0626\\u0631\\u0648', u'char-2:-1=\\u0626\\u0631', u'char-3:0=\\u06cc\\u0626\\u0631\\u0648', u'char-3:-1=\\u06cc\\u0626\\u0631', u'char+1=\\u0646', u'char:+1=\\u0648\\u0646', u'char+2=\\u06a9', u'char:+2=\\u0648\\u0646\\u06a9', u'char+1:+2=\\u0646\\u06a9', u'char:+3=\\u0648\\u0646\\u06a9\\u0646', u'char+1:+3=\\u0646\\u06a9\\u0646'], ['bias', u'char=\\u0646', u'char-1=\\u0648', u'char-1:0=\\u0648\\u0646', u'char-2=\\u0631', u'char-2:0=\\u0631\\u0648\\u0646', u'char-2:-1=\\u0631\\u0648', u'char-3:0=\\u0626\\u0631\\u0648\\u0646', u'char-3:-1=\\u0626\\u0631\\u0648', u'char+1=\\u06a9', u'char:+1=\\u0646\\u06a9', u'char+2=\\u0646', u'char:+2=\\u0646\\u06a9\\u0646', u'char+1:+2=\\u06a9\\u0646', u'char:+3=\\u0646\\u06a9\\u0646\\u06f2', u'char+1:+3=\\u06a9\\u0646\\u06f2'], ['bias', u'char=\\u06a9', u'char-1=\\u0646', u'char-1:0=\\u0646\\u06a9', u'char-2=\\u0648', u'char-2:0=\\u0648\\u0646\\u06a9', u'char-2:-1=\\u0648\\u0646', u'char-3:0=\\u0631\\u0648\\u0646\\u06a9', u'char-3:-1=\\u0631\\u0648\\u0646', u'char+1=\\u0646', u'char:+1=\\u06a9\\u0646', u'char+2=\\u06f2', u'char:+2=\\u06a9\\u0646\\u06f2', u'char+1:+2=\\u0646\\u06f2', u'char:+3=\\u06a9\\u0646\\u06f2\\u06f9', u'char+1:+3=\\u0646\\u06f2\\u06f9'], ['bias', u'char=\\u0646', u'char-1=\\u06a9', u'char-1:0=\\u06a9\\u0646', u'char-2=\\u0646', u'char-2:0=\\u0646\\u06a9\\u0646', u'char-2:-1=\\u0646\\u06a9', u'char-3:0=\\u0648\\u0646\\u06a9\\u0646', u'char-3:-1=\\u0648\\u0646\\u06a9', u'char+1=\\u06f2', u'char:+1=\\u0646\\u06f2', u'char+2=\\u06f9', u'char:+2=\\u0646\\u06f2\\u06f9', u'char+1:+2=\\u06f2\\u06f9', u'char:+3=\\u0646\\u06f2\\u06f9\\u0646', u'char+1:+3=\\u06f2\\u06f9\\u0646'], ['bias', u'char=\\u06f2', u'char-1=\\u0646', u'char-1:0=\\u0646\\u06f2', u'char-2=\\u06a9', u'char-2:0=\\u06a9\\u0646\\u06f2', u'char-2:-1=\\u06a9\\u0646', u'char-3:0=\\u0646\\u06a9\\u0646\\u06f2', u'char-3:-1=\\u0646\\u06a9\\u0646', u'char+1=\\u06f9', u'char:+1=\\u06f2\\u06f9', u'char+2=\\u0646', u'char:+2=\\u06f2\\u06f9\\u0646', u'char+1:+2=\\u06f9\\u0646', u'char:+3=\\u06f2\\u06f9\\u0646\\u0648', u'char+1:+3=\\u06f9\\u0646\\u0648'], ['bias', u'char=\\u06f9', u'char-1=\\u06f2', u'char-1:0=\\u06f2\\u06f9', u'char-2=\\u0646', u'char-2:0=\\u0646\\u06f2\\u06f9', u'char-2:-1=\\u0646\\u06f2', u'char-3:0=\\u06a9\\u0646\\u06f2\\u06f9', u'char-3:-1=\\u06a9\\u0646\\u06f2', u'char+1=\\u0646', u'char:+1=\\u06f9\\u0646', u'char+2=\\u0648', u'char:+2=\\u06f9\\u0646\\u0648', u'char+1:+2=\\u0646\\u0648', u'char:+3=\\u06f9\\u0646\\u0648\\u0645', u'char+1:+3=\\u0646\\u0648\\u0645'], ['bias', u'char=\\u0646', u'char-1=\\u06f9', u'char-1:0=\\u06f9\\u0646', u'char-2=\\u06f2', u'char-2:0=\\u06f2\\u06f9\\u0646', u'char-2:-1=\\u06f2\\u06f9', u'char-3:0=\\u0646\\u06f2\\u06f9\\u0646', u'char-3:-1=\\u0646\\u06f2\\u06f9', u'char+1=\\u0648', u'char:+1=\\u0646\\u0648', u'char+2=\\u0645', u'char:+2=\\u0646\\u0648\\u0645', u'char+1:+2=\\u0648\\u0645', u'char:+3=\\u0646\\u0648\\u0645\\u0628', u'char+1:+3=\\u0648\\u0645\\u0628'], ['bias', u'char=\\u0648', u'char-1=\\u0646', u'char-1:0=\\u0646\\u0648', u'char-2=\\u06f9', u'char-2:0=\\u06f9\\u0646\\u0648', u'char-2:-1=\\u06f9\\u0646', u'char-3:0=\\u06f2\\u06f9\\u0646\\u0648', u'char-3:-1=\\u06f2\\u06f9\\u0646', u'char+1=\\u0645', u'char:+1=\\u0648\\u0645', u'char+2=\\u0628', u'char:+2=\\u0648\\u0645\\u0628', u'char+1:+2=\\u0645\\u0628', u'char:+3=\\u0648\\u0645\\u0628\\u0631', u'char+1:+3=\\u0645\\u0628\\u0631'], ['bias', u'char=\\u0645', u'char-1=\\u0648', u'char-1:0=\\u0648\\u0645', u'char-2=\\u0646', u'char-2:0=\\u0646\\u0648\\u0645', u'char-2:-1=\\u0646\\u0648', u'char-3:0=\\u06f9\\u0646\\u0648\\u0645', u'char-3:-1=\\u06f9\\u0646\\u0648', u'char+1=\\u0628', u'char:+1=\\u0645\\u0628', u'char+2=\\u0631', u'char:+2=\\u0645\\u0628\\u0631', u'char+1:+2=\\u0628\\u0631', u'char:+3=\\u0645\\u0628\\u0631\\u06a9', u'char+1:+3=\\u0628\\u0631\\u06a9'], ['bias', u'char=\\u0628', u'char-1=\\u0645', u'char-1:0=\\u0645\\u0628', u'char-2=\\u0648', u'char-2:0=\\u0648\\u0645\\u0628', u'char-2:-1=\\u0648\\u0645', u'char-3:0=\\u0646\\u0648\\u0645\\u0628', u'char-3:-1=\\u0646\\u0648\\u0645', u'char+1=\\u0631', u'char:+1=\\u0628\\u0631', u'char+2=\\u06a9', u'char:+2=\\u0628\\u0631\\u06a9', u'char+1:+2=\\u0631\\u06a9', u'char:+3=\\u0628\\u0631\\u06a9\\u0648', u'char+1:+3=\\u0631\\u06a9\\u0648'], ['bias', u'char=\\u0631', u'char-1=\\u0628', u'char-1:0=\\u0628\\u0631', u'char-2=\\u0645', u'char-2:0=\\u0645\\u0628\\u0631', u'char-2:-1=\\u0645\\u0628', u'char-3:0=\\u0648\\u0645\\u0628\\u0631', u'char-3:-1=\\u0648\\u0645\\u0628', u'char+1=\\u06a9', u'char:+1=\\u0631\\u06a9', u'char+2=\\u0648', u'char:+2=\\u0631\\u06a9\\u0648', u'char+1:+2=\\u06a9\\u0648', u'char:+3=\\u0631\\u06a9\\u0648\\u0628', u'char+1:+3=\\u06a9\\u0648\\u0628'], ['bias', u'char=\\u06a9', u'char-1=\\u0631', u'char-1:0=\\u0631\\u06a9', u'char-2=\\u0628', u'char-2:0=\\u0628\\u0631\\u06a9', u'char-2:-1=\\u0628\\u0631', u'char-3:0=\\u0645\\u0628\\u0631\\u06a9', u'char-3:-1=\\u0645\\u0628\\u0631', u'char+1=\\u0648', u'char:+1=\\u06a9\\u0648', u'char+2=\\u0628', u'char:+2=\\u06a9\\u0648\\u0628', u'char+1:+2=\\u0648\\u0628', u'char:+3=\\u06a9\\u0648\\u0628\\u0637', u'char+1:+3=\\u0648\\u0628\\u0637'], ['bias', u'char=\\u0648', u'char-1=\\u06a9', u'char-1:0=\\u06a9\\u0648', u'char-2=\\u0631', u'char-2:0=\\u0631\\u06a9\\u0648', u'char-2:-1=\\u0631\\u06a9', u'char-3:0=\\u0628\\u0631\\u06a9\\u0648', u'char-3:-1=\\u0628\\u0631\\u06a9', u'char+1=\\u0628', u'char:+1=\\u0648\\u0628', u'char+2=\\u0637', u'char:+2=\\u0648\\u0628\\u0637', u'char+1:+2=\\u0628\\u0637', u'char:+3=\\u0648\\u0628\\u0637\\u0648', u'char+1:+3=\\u0628\\u0637\\u0648'], ['bias', u'char=\\u0628', u'char-1=\\u0648', u'char-1:0=\\u0648\\u0628', u'char-2=\\u06a9', u'char-2:0=\\u06a9\\u0648\\u0628', u'char-2:-1=\\u06a9\\u0648', u'char-3:0=\\u0631\\u06a9\\u0648\\u0628', u'char-3:-1=\\u0631\\u06a9\\u0648', u'char+1=\\u0637', u'char:+1=\\u0628\\u0637', u'char+2=\\u0648', u'char:+2=\\u0628\\u0637\\u0648', u'char+1:+2=\\u0637\\u0648', u'char:+3=\\u0628\\u0637\\u0648\\u0631', u'char+1:+3=\\u0637\\u0648\\u0631'], ['bias', u'char=\\u0637', u'char-1=\\u0628', u'char-1:0=\\u0628\\u0637', u'char-2=\\u0648', u'char-2:0=\\u0648\\u0628\\u0637', u'char-2:-1=\\u0648\\u0628', u'char-3:0=\\u06a9\\u0648\\u0628\\u0637', u'char-3:-1=\\u06a9\\u0648\\u0628', u'char+1=\\u0648', u'char:+1=\\u0637\\u0648', u'char+2=\\u0631', u'char:+2=\\u0637\\u0648\\u0631', u'char+1:+2=\\u0648\\u0631', u'char:+3=\\u0637\\u0648\\u0631\\u0646', u'char+1:+3=\\u0648\\u0631\\u0646'], ['bias', u'char=\\u0648', u'char-1=\\u0637', u'char-1:0=\\u0637\\u0648', u'char-2=\\u0628', u'char-2:0=\\u0628\\u0637\\u0648', u'char-2:-1=\\u0628\\u0637', u'char-3:0=\\u0648\\u0628\\u0637\\u0648', u'char-3:-1=\\u0648\\u0628\\u0637', u'char+1=\\u0631', u'char:+1=\\u0648\\u0631', u'char+2=\\u0646', u'char:+2=\\u0648\\u0631\\u0646', u'char+1:+2=\\u0631\\u0646', u'char:+3=\\u0648\\u0631\\u0646\\u0627', u'char+1:+3=\\u0631\\u0646\\u0627'], ['bias', u'char=\\u0631', u'char-1=\\u0648', u'char-1:0=\\u0648\\u0631', u'char-2=\\u0637', u'char-2:0=\\u0637\\u0648\\u0631', u'char-2:-1=\\u0637\\u0648', u'char-3:0=\\u0628\\u0637\\u0648\\u0631', u'char-3:-1=\\u0628\\u0637\\u0648', u'char+1=\\u0646', u'char:+1=\\u0631\\u0646', u'char+2=\\u0627', u'char:+2=\\u0631\\u0646\\u0627', u'char+1:+2=\\u0646\\u0627', u'char:+3=\\u0631\\u0646\\u0627\\u0646', u'char+1:+3=\\u0646\\u0627\\u0646'], ['bias', u'char=\\u0646', u'char-1=\\u0631', u'char-1:0=\\u0631\\u0646', u'char-2=\\u0648', u'char-2:0=\\u0648\\u0631\\u0646', u'char-2:-1=\\u0648\\u0631', u'char-3:0=\\u0637\\u0648\\u0631\\u0646', u'char-3:-1=\\u0637\\u0648\\u0631', u'char+1=\\u0627', u'char:+1=\\u0646\\u0627', u'char+2=\\u0646', u'char:+2=\\u0646\\u0627\\u0646', u'char+1:+2=\\u0627\\u0646', u'char:+3=\\u0646\\u0627\\u0646\\u200c', u'char+1:+3=\\u0627\\u0646\\u200c'], ['bias', u'char=\\u0627', u'char-1=\\u0646', u'char-1:0=\\u0646\\u0627', u'char-2=\\u0631', u'char-2:0=\\u0631\\u0646\\u0627', u'char-2:-1=\\u0631\\u0646', u'char-3:0=\\u0648\\u0631\\u0646\\u0627', u'char-3:-1=\\u0648\\u0631\\u0646', u'char+1=\\u0646', u'char:+1=\\u0627\\u0646', u'char+2=\\u200c', u'char:+2=\\u0627\\u0646\\u200c', u'char+1:+2=\\u0646\\u200c', u'char:+3=\\u0627\\u0646\\u200c\\u0627', u'char+1:+3=\\u0646\\u200c\\u0627'], ['bias', u'char=\\u0646', u'char-1=\\u0627', u'char-1:0=\\u0627\\u0646', u'char-2=\\u0646', u'char-2:0=\\u0646\\u0627\\u0646', u'char-2:-1=\\u0646\\u0627', u'char-3:0=\\u0631\\u0646\\u0627\\u0646', u'char-3:-1=\\u0631\\u0646\\u0627', u'char+1=\\u200c', u'char:+1=\\u0646\\u200c', u'char+2=\\u0627', u'char:+2=\\u0646\\u200c\\u0627', u'char+1:+2=\\u200c\\u0627', u'char:+3=\\u0646\\u200c\\u0627\\u06cc', u'char+1:+3=\\u200c\\u0627\\u06cc'], ['bias', u'char=\\u200c', u'char-1=\\u0646', u'char-1:0=\\u0646\\u200c', u'char-2=\\u0627', u'char-2:0=\\u0627\\u0646\\u200c', u'char-2:-1=\\u0627\\u0646', u'char-3:0=\\u0646\\u0627\\u0646\\u200c', u'char-3:-1=\\u0646\\u0627\\u0646', u'char+1=\\u0627', u'char:+1=\\u200c\\u0627', u'char+2=\\u06cc', u'char:+2=\\u200c\\u0627\\u06cc', u'char+1:+2=\\u0627\\u06cc', u'char:+3=\\u200c\\u0627\\u06cc\\u06af', u'char+1:+3=\\u0627\\u06cc\\u06af'], ['bias', u'char=\\u0627', u'char-1=\\u200c', u'char-1:0=\\u200c\\u0627', u'char-2=\\u0646', u'char-2:0=\\u0646\\u200c\\u0627', u'char-2:-1=\\u0646\\u200c', u'char-3:0=\\u0627\\u0646\\u200c\\u0627', u'char-3:-1=\\u0627\\u0646\\u200c', u'char+1=\\u06cc', u'char:+1=\\u0627\\u06cc', u'char+2=\\u06af', u'char:+2=\\u0627\\u06cc\\u06af', u'char+1:+2=\\u06cc\\u06af', u'char:+3=\\u0627\\u06cc\\u06af\\u0632', u'char+1:+3=\\u06cc\\u06af\\u0632'], ['bias', u'char=\\u06cc', u'char-1=\\u0627', u'char-1:0=\\u0627\\u06cc', u'char-2=\\u200c', u'char-2:0=\\u200c\\u0627\\u06cc', u'char-2:-1=\\u200c\\u0627', u'char-3:0=\\u0646\\u200c\\u0627\\u06cc', u'char-3:-1=\\u0646\\u200c\\u0627', u'char+1=\\u06af', u'char:+1=\\u06cc\\u06af', u'char+2=\\u0632', u'char:+2=\\u06cc\\u06af\\u0632', u'char+1:+2=\\u06af\\u0632', u'char:+3=\\u06cc\\u06af\\u0632\\u06cc', u'char+1:+3=\\u06af\\u0632\\u06cc'], ['bias', u'char=\\u06af', u'char-1=\\u06cc', u'char-1:0=\\u06cc\\u06af', u'char-2=\\u0627', u'char-2:0=\\u0627\\u06cc\\u06af', u'char-2:-1=\\u0627\\u06cc', u'char-3:0=\\u200c\\u0627\\u06cc\\u06af', u'char-3:-1=\\u200c\\u0627\\u06cc', u'char+1=\\u0632', u'char:+1=\\u06af\\u0632', u'char+2=\\u06cc', u'char:+2=\\u06af\\u0632\\u06cc', u'char+1:+2=\\u0632\\u06cc', u'char:+3=\\u06af\\u0632\\u06cc\\u06a9', u'char+1:+3=\\u0632\\u06cc\\u06a9'], ['bias', u'char=\\u0632', u'char-1=\\u06af', u'char-1:0=\\u06af\\u0632', u'char-2=\\u06cc', u'char-2:0=\\u06cc\\u06af\\u0632', u'char-2:-1=\\u06cc\\u06af', u'char-3:0=\\u0627\\u06cc\\u06af\\u0632', u'char-3:-1=\\u0627\\u06cc\\u06af', u'char+1=\\u06cc', u'char:+1=\\u0632\\u06cc', u'char+2=\\u06a9', u'char:+2=\\u0632\\u06cc\\u06a9', u'char+1:+2=\\u06cc\\u06a9', u'char:+3=\\u0632\\u06cc\\u06a9\\u0679', u'char+1:+3=\\u06cc\\u06a9\\u0679'], ['bias', u'char=\\u06cc', u'char-1=\\u0632', u'char-1:0=\\u0632\\u06cc', u'char-2=\\u06af', u'char-2:0=\\u06af\\u0632\\u06cc', u'char-2:-1=\\u06af\\u0632', u'char-3:0=\\u06cc\\u06af\\u0632\\u06cc', u'char-3:-1=\\u06cc\\u06af\\u0632', u'char+1=\\u06a9', u'char:+1=\\u06cc\\u06a9', u'char+2=\\u0679', u'char:+2=\\u06cc\\u06a9\\u0679', u'char+1:+2=\\u06a9\\u0679', u'char:+3=\\u06cc\\u06a9\\u0679\\u0648', u'char+1:+3=\\u06a9\\u0679\\u0648'], ['bias', u'char=\\u06a9', u'char-1=\\u06cc', u'char-1:0=\\u06cc\\u06a9', u'char-2=\\u0632', u'char-2:0=\\u0632\\u06cc\\u06a9', u'char-2:-1=\\u0632\\u06cc', u'char-3:0=\\u06af\\u0632\\u06cc\\u06a9', u'char-3:-1=\\u06af\\u0632\\u06cc', u'char+1=\\u0679', u'char:+1=\\u06a9\\u0679', u'char+2=\\u0648', u'char:+2=\\u06a9\\u0679\\u0648', u'char+1:+2=\\u0679\\u0648', u'char:+3=\\u06a9\\u0679\\u0648\\u0688', u'char+1:+3=\\u0679\\u0648\\u0688'], ['bias', u'char=\\u0679', u'char-1=\\u06a9', u'char-1:0=\\u06a9\\u0679', u'char-2=\\u06cc', u'char-2:0=\\u06cc\\u06a9\\u0679', u'char-2:-1=\\u06cc\\u06a9', u'char-3:0=\\u0632\\u06cc\\u06a9\\u0679', u'char-3:-1=\\u0632\\u06cc\\u06a9', u'char+1=\\u0648', u'char:+1=\\u0679\\u0648', u'char+2=\\u0688', u'char:+2=\\u0679\\u0648\\u0688', u'char+1:+2=\\u0648\\u0688', u'char:+3=\\u0679\\u0648\\u0688\\u0627', u'char+1:+3=\\u0648\\u0688\\u0627'], ['bias', u'char=\\u0648', u'char-1=\\u0679', u'char-1:0=\\u0679\\u0648', u'char-2=\\u06a9', u'char-2:0=\\u06a9\\u0679\\u0648', u'char-2:-1=\\u06a9\\u0679', u'char-3:0=\\u06cc\\u06a9\\u0679\\u0648', u'char-3:-1=\\u06cc\\u06a9\\u0679', u'char+1=\\u0688', u'char:+1=\\u0648\\u0688', u'char+2=\\u0627', u'char:+2=\\u0648\\u0688\\u0627', u'char+1:+2=\\u0688\\u0627', u'char:+3=\\u0648\\u0688\\u0627\\u0626', u'char+1:+3=\\u0688\\u0627\\u0626'], ['bias', u'char=\\u0688', u'char-1=\\u0648', u'char-1:0=\\u0648\\u0688', u'char-2=\\u0679', u'char-2:0=\\u0679\\u0648\\u0688', u'char-2:-1=\\u0679\\u0648', u'char-3:0=\\u06a9\\u0679\\u0648\\u0688', u'char-3:-1=\\u06a9\\u0679\\u0648', u'char+1=\\u0627', u'char:+1=\\u0688\\u0627', u'char+2=\\u0626', u'char:+2=\\u0688\\u0627\\u0626', u'char+1:+2=\\u0627\\u0626', u'char:+3=\\u0688\\u0627\\u0626\\u0631', u'char+1:+3=\\u0627\\u0626\\u0631'], ['bias', u'char=\\u0627', u'char-1=\\u0688', u'char-1:0=\\u0688\\u0627', u'char-2=\\u0648', u'char-2:0=\\u0648\\u0688\\u0627', u'char-2:-1=\\u0648\\u0688', u'char-3:0=\\u0679\\u0648\\u0688\\u0627', u'char-3:-1=\\u0679\\u0648\\u0688', u'char+1=\\u0626', u'char:+1=\\u0627\\u0626', u'char+2=\\u0631', u'char:+2=\\u0627\\u0626\\u0631', u'char+1:+2=\\u0626\\u0631', u'char:+3=\\u0627\\u0626\\u0631\\u06cc', u'char+1:+3=\\u0626\\u0631\\u06cc'], ['bias', u'char=\\u0626', u'char-1=\\u0627', u'char-1:0=\\u0627\\u0626', u'char-2=\\u0688', u'char-2:0=\\u0688\\u0627\\u0626', u'char-2:-1=\\u0688\\u0627', u'char-3:0=\\u0648\\u0688\\u0627\\u0626', u'char-3:-1=\\u0648\\u0688\\u0627', u'char+1=\\u0631', u'char:+1=\\u0626\\u0631', u'char+2=\\u06cc', u'char:+2=\\u0626\\u0631\\u06cc', u'char+1:+2=\\u0631\\u06cc', u'char:+3=\\u0626\\u0631\\u06cc\\u06a9', u'char+1:+3=\\u0631\\u06cc\\u06a9'], ['bias', u'char=\\u0631', u'char-1=\\u0626', u'char-1:0=\\u0626\\u0631', u'char-2=\\u0627', u'char-2:0=\\u0627\\u0626\\u0631', u'char-2:-1=\\u0627\\u0626', u'char-3:0=\\u0688\\u0627\\u0626\\u0631', u'char-3:-1=\\u0688\\u0627\\u0626', u'char+1=\\u06cc', u'char:+1=\\u0631\\u06cc', u'char+2=\\u06a9', u'char:+2=\\u0631\\u06cc\\u06a9', u'char+1:+2=\\u06cc\\u06a9', u'char:+3=\\u0631\\u06cc\\u06a9\\u0679', u'char+1:+3=\\u06cc\\u06a9\\u0679'], ['bias', u'char=\\u06cc', u'char-1=\\u0631', u'char-1:0=\\u0631\\u06cc', u'char-2=\\u0626', u'char-2:0=\\u0626\\u0631\\u06cc', u'char-2:-1=\\u0626\\u0631', u'char-3:0=\\u0627\\u0626\\u0631\\u06cc', u'char-3:-1=\\u0627\\u0626\\u0631', u'char+1=\\u06a9', u'char:+1=\\u06cc\\u06a9', u'char+2=\\u0679', u'char:+2=\\u06cc\\u06a9\\u0679', u'char+1:+2=\\u06a9\\u0679', u'char:+3=\\u06cc\\u06a9\\u0679\\u0631', u'char+1:+3=\\u06a9\\u0679\\u0631'], ['bias', u'char=\\u06a9', u'char-1=\\u06cc', u'char-1:0=\\u06cc\\u06a9', u'char-2=\\u0631', u'char-2:0=\\u0631\\u06cc\\u06a9', u'char-2:-1=\\u0631\\u06cc', u'char-3:0=\\u0626\\u0631\\u06cc\\u06a9', u'char-3:-1=\\u0626\\u0631\\u06cc', u'char+1=\\u0679', u'char:+1=\\u06a9\\u0679', u'char+2=\\u0631', u'char:+2=\\u06a9\\u0679\\u0631', u'char+1:+2=\\u0679\\u0631', u'char:+3=\\u06a9\\u0679\\u0631\\u0628', u'char+1:+3=\\u0679\\u0631\\u0628'], ['bias', u'char=\\u0679', u'char-1=\\u06a9', u'char-1:0=\\u06a9\\u0679', u'char-2=\\u06cc', u'char-2:0=\\u06cc\\u06a9\\u0679', u'char-2:-1=\\u06cc\\u06a9', u'char-3:0=\\u0631\\u06cc\\u06a9\\u0679', u'char-3:-1=\\u0631\\u06cc\\u06a9', u'char+1=\\u0631', u'char:+1=\\u0679\\u0631', u'char+2=\\u0628', u'char:+2=\\u0679\\u0631\\u0628', u'char+1:+2=\\u0631\\u0628', u'char:+3=\\u0679\\u0631\\u0628\\u0648', u'char+1:+3=\\u0631\\u0628\\u0648'], ['bias', u'char=\\u0631', u'char-1=\\u0679', u'char-1:0=\\u0679\\u0631', u'char-2=\\u06a9', u'char-2:0=\\u06a9\\u0679\\u0631', u'char-2:-1=\\u06a9\\u0679', u'char-3:0=\\u06cc\\u06a9\\u0679\\u0631', u'char-3:-1=\\u06cc\\u06a9\\u0679', u'char+1=\\u0628', u'char:+1=\\u0631\\u0628', u'char+2=\\u0648', u'char:+2=\\u0631\\u0628\\u0648', u'char+1:+2=\\u0628\\u0648', u'char:+3=\\u0631\\u0628\\u0648\\u0631', u'char+1:+3=\\u0628\\u0648\\u0631'], ['bias', u'char=\\u0628', u'char-1=\\u0631', u'char-1:0=\\u0631\\u0628', u'char-2=\\u0679', u'char-2:0=\\u0679\\u0631\\u0628', u'char-2:-1=\\u0679\\u0631', u'char-3:0=\\u06a9\\u0679\\u0631\\u0628', u'char-3:-1=\\u06a9\\u0679\\u0631', u'char+1=\\u0648', u'char:+1=\\u0628\\u0648', u'char+2=\\u0631', u'char:+2=\\u0628\\u0648\\u0631', u'char+1:+2=\\u0648\\u0631', u'char:+3=\\u0628\\u0648\\u0631\\u0688', u'char+1:+3=\\u0648\\u0631\\u0688'], ['bias', u'char=\\u0648', u'char-1=\\u0628', u'char-1:0=\\u0628\\u0648', u'char-2=\\u0631', u'char-2:0=\\u0631\\u0628\\u0648', u'char-2:-1=\\u0631\\u0628', u'char-3:0=\\u0679\\u0631\\u0628\\u0648', u'char-3:-1=\\u0679\\u0631\\u0628', u'char+1=\\u0631', u'char:+1=\\u0648\\u0631', u'char+2=\\u0688', u'char:+2=\\u0648\\u0631\\u0688', u'char+1:+2=\\u0631\\u0688', u'char:+3=\\u0648\\u0631\\u0688\\u0645', u'char+1:+3=\\u0631\\u0688\\u0645'], ['bias', u'char=\\u0631', u'char-1=\\u0648', u'char-1:0=\\u0648\\u0631', u'char-2=\\u0628', u'char-2:0=\\u0628\\u0648\\u0631', u'char-2:-1=\\u0628\\u0648', u'char-3:0=\\u0631\\u0628\\u0648\\u0631', u'char-3:-1=\\u0631\\u0628\\u0648', u'char+1=\\u0688', u'char:+1=\\u0631\\u0688', u'char+2=\\u0645', u'char:+2=\\u0631\\u0688\\u0645', u'char+1:+2=\\u0688\\u0645', u'char:+3=\\u0631\\u0688\\u0645\\u06cc', u'char+1:+3=\\u0688\\u0645\\u06cc'], ['bias', u'char=\\u0688', u'char-1=\\u0631', u'char-1:0=\\u0631\\u0688', u'char-2=\\u0648', u'char-2:0=\\u0648\\u0631\\u0688', u'char-2:-1=\\u0648\\u0631', u'char-3:0=\\u0628\\u0648\\u0631\\u0688', u'char-3:-1=\\u0628\\u0648\\u0631', u'char+1=\\u0645', u'char:+1=\\u0688\\u0645', u'char+2=\\u06cc', u'char:+2=\\u0688\\u0645\\u06cc', u'char+1:+2=\\u0645\\u06cc', u'char:+3=\\u0688\\u0645\\u06cc\\u06ba', u'char+1:+3=\\u0645\\u06cc\\u06ba'], ['bias', u'char=\\u0645', u'char-1=\\u0688', u'char-1:0=\\u0688\\u0645', u'char-2=\\u0631', u'char-2:0=\\u0631\\u0688\\u0645', u'char-2:-1=\\u0631\\u0688', u'char-3:0=\\u0648\\u0631\\u0688\\u0645', u'char-3:-1=\\u0648\\u0631\\u0688', u'char+1=\\u06cc', u'char:+1=\\u0645\\u06cc', u'char+2=\\u06ba', u'char:+2=\\u0645\\u06cc\\u06ba', u'char+1:+2=\\u06cc\\u06ba', u'char:+3=\\u0645\\u06cc\\u06ba\\u0634', u'char+1:+3=\\u06cc\\u06ba\\u0634'], ['bias', u'char=\\u06cc', u'char-1=\\u0645', u'char-1:0=\\u0645\\u06cc', u'char-2=\\u0688', u'char-2:0=\\u0688\\u0645\\u06cc', u'char-2:-1=\\u0688\\u0645', u'char-3:0=\\u0631\\u0688\\u0645\\u06cc', u'char-3:-1=\\u0631\\u0688\\u0645', u'char+1=\\u06ba', u'char:+1=\\u06cc\\u06ba', u'char+2=\\u0634', u'char:+2=\\u06cc\\u06ba\\u0634', u'char+1:+2=\\u06ba\\u0634', u'char:+3=\\u06cc\\u06ba\\u0634\\u0627', u'char+1:+3=\\u06ba\\u0634\\u0627'], ['bias', u'char=\\u06ba', u'char-1=\\u06cc', u'char-1:0=\\u06cc\\u06ba', u'char-2=\\u0645', u'char-2:0=\\u0645\\u06cc\\u06ba', u'char-2:-1=\\u0645\\u06cc', u'char-3:0=\\u0688\\u0645\\u06cc\\u06ba', u'char-3:-1=\\u0688\\u0645\\u06cc', u'char+1=\\u0634', u'char:+1=\\u06ba\\u0634', u'char+2=\\u0627', u'char:+2=\\u06ba\\u0634\\u0627', u'char+1:+2=\\u0634\\u0627', u'char:+3=\\u06ba\\u0634\\u0627\\u0645', u'char+1:+3=\\u0634\\u0627\\u0645'], ['bias', u'char=\\u0634', u'char-1=\\u06ba', u'char-1:0=\\u06ba\\u0634', u'char-2=\\u06cc', u'char-2:0=\\u06cc\\u06ba\\u0634', u'char-2:-1=\\u06cc\\u06ba', u'char-3:0=\\u0645\\u06cc\\u06ba\\u0634', u'char-3:-1=\\u0645\\u06cc\\u06ba', u'char+1=\\u0627', u'char:+1=\\u0634\\u0627', u'char+2=\\u0645', u'char:+2=\\u0634\\u0627\\u0645', u'char+1:+2=\\u0627\\u0645', u'char:+3=\\u0634\\u0627\\u0645\\u0644', u'char+1:+3=\\u0627\\u0645\\u0644'], ['bias', u'char=\\u0627', u'char-1=\\u0634', u'char-1:0=\\u0634\\u0627', u'char-2=\\u06ba', u'char-2:0=\\u06ba\\u0634\\u0627', u'char-2:-1=\\u06ba\\u0634', u'char-3:0=\\u06cc\\u06ba\\u0634\\u0627', u'char-3:-1=\\u06cc\\u06ba\\u0634', u'char+1=\\u0645', u'char:+1=\\u0627\\u0645', u'char+2=\\u0644', u'char:+2=\\u0627\\u0645\\u0644', u'char+1:+2=\\u0645\\u0644', u'char:+3=\\u0627\\u0645\\u0644\\u06c1', u'char+1:+3=\\u0645\\u0644\\u06c1'], ['bias', u'char=\\u0645', u'char-1=\\u0627', u'char-1:0=\\u0627\\u0645', u'char-2=\\u0634', u'char-2:0=\\u0634\\u0627\\u0645', u'char-2:-1=\\u0634\\u0627', u'char-3:0=\\u06ba\\u0634\\u0627\\u0645', u'char-3:-1=\\u06ba\\u0634\\u0627', u'char+1=\\u0644', u'char:+1=\\u0645\\u0644', u'char+2=\\u06c1', u'char:+2=\\u0645\\u0644\\u06c1', u'char+1:+2=\\u0644\\u06c1', u'char:+3=\\u0645\\u0644\\u06c1\\u0648', u'char+1:+3=\\u0644\\u06c1\\u0648'], ['bias', u'char=\\u0644', u'char-1=\\u0645', u'char-1:0=\\u0645\\u0644', u'char-2=\\u0627', u'char-2:0=\\u0627\\u0645\\u0644', u'char-2:-1=\\u0627\\u0645', u'char-3:0=\\u0634\\u0627\\u0645\\u0644', u'char-3:-1=\\u0634\\u0627\\u0645', u'char+1=\\u06c1', u'char:+1=\\u0644\\u06c1', u'char+2=\\u0648', u'char:+2=\\u0644\\u06c1\\u0648', u'char+1:+2=\\u06c1\\u0648', u'char:+3=\\u0644\\u06c1\\u0648\\u06ba', u'char+1:+3=\\u06c1\\u0648\\u06ba'], ['bias', u'char=\\u06c1', u'char-1=\\u0644', u'char-1:0=\\u0644\\u06c1', u'char-2=\\u0645', u'char-2:0=\\u0645\\u0644\\u06c1', u'char-2:-1=\\u0645\\u0644', u'char-3:0=\\u0627\\u0645\\u0644\\u06c1', u'char-3:-1=\\u0627\\u0645\\u0644', u'char+1=\\u0648', u'char:+1=\\u06c1\\u0648', u'char+2=\\u06ba', u'char:+2=\\u06c1\\u0648\\u06ba', u'char+1:+2=\\u0648\\u06ba', u'char:+3=\\u06c1\\u0648\\u06ba\\u06af', u'char+1:+3=\\u0648\\u06ba\\u06af'], ['bias', u'char=\\u0648', u'char-1=\\u06c1', u'char-1:0=\\u06c1\\u0648', u'char-2=\\u0644', u'char-2:0=\\u0644\\u06c1\\u0648', u'char-2:-1=\\u0644\\u06c1', u'char-3:0=\\u0645\\u0644\\u06c1\\u0648', u'char-3:-1=\\u0645\\u0644\\u06c1', u'char+1=\\u06ba', u'char:+1=\\u0648\\u06ba', u'char+2=\\u06af', u'char:+2=\\u0648\\u06ba\\u06af', u'char+1:+2=\\u06ba\\u06af', u'char:+3=\\u0648\\u06ba\\u06af\\u06d2', u'char+1:+3=\\u06ba\\u06af\\u06d2'], ['bias', u'char=\\u06ba', u'char-1=\\u0648', u'char-1:0=\\u0648\\u06ba', u'char-2=\\u06c1', u'char-2:0=\\u06c1\\u0648\\u06ba', u'char-2:-1=\\u06c1\\u0648', u'char-3:0=\\u0644\\u06c1\\u0648\\u06ba', u'char-3:-1=\\u0644\\u06c1\\u0648', u'char+1=\\u06af', u'char:+1=\\u06ba\\u06af', u'char+2=\\u06d2', u'char:+2=\\u06ba\\u06af\\u06d2', u'char+1:+2=\\u06af\\u06d2', u'char:+3=\\u06ba\\u06af\\u06d2\\u200c', u'char+1:+3=\\u06af\\u06d2\\u200c'], ['bias', u'char=\\u06af', u'char-1=\\u06ba', u'char-1:0=\\u06ba\\u06af', u'char-2=\\u0648', u'char-2:0=\\u0648\\u06ba\\u06af', u'char-2:-1=\\u0648\\u06ba', u'char-3:0=\\u06c1\\u0648\\u06ba\\u06af', u'char-3:-1=\\u06c1\\u0648\\u06ba', u'char+1=\\u06d2', u'char:+1=\\u06af\\u06d2', u'char+2=\\u200c', u'char:+2=\\u06af\\u06d2\\u200c', u'char+1:+2=\\u06d2\\u200c'], ['bias', u'char=\\u06d2', u'char-1=\\u06af', u'char-1:0=\\u06af\\u06d2', u'char-2=\\u06ba', u'char-2:0=\\u06ba\\u06af\\u06d2', u'char-2:-1=\\u06ba\\u06af', u'char-3:0=\\u0648\\u06ba\\u06af\\u06d2', u'char-3:-1=\\u0648\\u06ba\\u06af', u'char+1=\\u200c', u'char:+1=\\u06d2\\u200c'], ['bias', u'char=\\u200c', u'char-1=\\u06d2', u'char-1:0=\\u06d2\\u200c', u'char-2=\\u06af', u'char-2:0=\\u06af\\u06d2\\u200c', u'char-2:-1=\\u06af\\u06d2', u'char-3:0=\\u06ba\\u06af\\u06d2\\u200c', u'char-3:-1=\\u06ba\\u06af\\u06d2', 'EOS']]\n",
      "['0', '0', '0', '0', '0', '1', '0', '0', '0', '1', '0', '0', '0', '0', '0', '0', '0', '1', '0', '1', '0', '0', '0', '0', '1', '0', '1', '0', '0', '0', '1', '0', '0', '0', '0', '0', '0', '0', '0', '0', '0', '0', '1', '0', '0', '0', '0', '0', '0', '0', '1', '0', '0', '0', '1', '0', '0', '1', '0', '0', '0', '1', '0', '0', '1', '0', '0']\n"
     ]
    }
   ],
   "source": [
    "print X_train[0]\n",
    "print y_train[0]"
   ]
  },
  {
   "cell_type": "code",
   "execution_count": 37,
   "metadata": {
    "collapsed": true
   },
   "outputs": [],
   "source": [
    "trainer = pycrfsuite.Trainer(verbose=False)\n",
    "\n",
    "for xseq, yseq in zip(X_train, y_train):\n",
    "    trainer.append(xseq, yseq)"
   ]
  },
  {
   "cell_type": "code",
   "execution_count": 38,
   "metadata": {
    "collapsed": true
   },
   "outputs": [],
   "source": [
    "trainer.set_params({\n",
    "    'c1': 1.0, \n",
    "    'c2': 1e-3,\n",
    "    'max_iterations': 60,\n",
    "    'feature.possible_transitions': True\n",
    "})"
   ]
  },
  {
   "cell_type": "code",
   "execution_count": 39,
   "metadata": {
    "collapsed": false
   },
   "outputs": [],
   "source": [
    "trainer.train('urdu-text-segmentation.crfsuite')"
   ]
  },
  {
   "cell_type": "code",
   "execution_count": 40,
   "metadata": {
    "collapsed": false
   },
   "outputs": [
    {
     "data": {
      "text/plain": [
       "<contextlib.closing at 0x314989b0>"
      ]
     },
     "execution_count": 40,
     "metadata": {},
     "output_type": "execute_result"
    }
   ],
   "source": [
    "tagger = pycrfsuite.Tagger()\n",
    "tagger.open('urdu-text-segmentation.crfsuite')"
   ]
  },
  {
   "cell_type": "code",
   "execution_count": 41,
   "metadata": {
    "collapsed": false
   },
   "outputs": [],
   "source": [
    "def segment_sentence(sentence):\n",
    "    sentence = sentence.replace(\" \", \"\")\n",
    "    #sentence = sentence.replace(u\"\\u200C\", \"\") #Uncomment to incorporate ZWNJ\n",
    "    prediction = tagger.tag(create_sentence_features(sentence))\n",
    "    print prediction\n",
    "    complete = \"\"\n",
    "    for i, p in enumerate(prediction):\n",
    "        if p == \"1\":\n",
    "            complete += \" \" + sentence[i]\n",
    "        #Uncomment to incorporate ZWNJ\n",
    "        #elif p == \"2\":\n",
    "        #    complete += u\"\\u200C\" + sentence[i]\n",
    "        else:\n",
    "            complete += sentence[i]\n",
    "    return complete"
   ]
  },
  {
   "cell_type": "code",
   "execution_count": 42,
   "metadata": {
    "collapsed": false
   },
   "outputs": [
    {
     "name": "stdout",
     "output_type": "stream",
     "text": [
      "['0', '0', '0', '0', '0', '0', '0', '0', '0', '1', '0', '0', '0', '0', '0', '1', '0', '0', '1', '0', '1', '0', '0', '1', '0', '1', '0']\n",
      "شرح‌فی‌صد تبدیلی سال کے آخر سے ہے\n"
     ]
    }
   ],
   "source": [
    "print(segment_sentence(u\"شرح ‌فی‌صد تبدیلی سال کے آخر سے ہے\"))"
   ]
  },
  {
   "cell_type": "code",
   "execution_count": 43,
   "metadata": {
    "collapsed": false
   },
   "outputs": [],
   "source": [
    "tp = 0.0\n",
    "fp = 0.0\n",
    "fn = 0.0\n",
    "n_correct = 0.0\n",
    "n_incorrect = 0.0\n",
    "\n",
    "for s in prepared_sentences[-825:]:\n",
    "    prediction = tagger.tag(create_sentence_features(s))\n",
    "    correct = create_sentence_labels(s)\n",
    "    zipped = list(zip(prediction, correct))\n",
    "    tp +=        len([_ for l, c in zipped if l == c and l == \"1\"])\n",
    "    fp +=        len([_ for l, c in zipped if l == \"1\" and c == \"0\"])\n",
    "    fn +=        len([_ for l, c in zipped if l == \"0\" and c == \"1\"])\n",
    "    n_incorrect += len([_ for l, c in zipped if l != c])\n",
    "    n_correct   += len([_ for l, c in zipped if l == c])"
   ]
  },
  {
   "cell_type": "code",
   "execution_count": 44,
   "metadata": {
    "collapsed": false
   },
   "outputs": [
    {
     "name": "stdout",
     "output_type": "stream",
     "text": [
      "Precision: 0.962643971053\n",
      "Recall: 0.95878381808\n",
      "Accuracy: 0.981084952437\n",
      "18889.0 733.0 812.0 80136.0 1545.0\n"
     ]
    }
   ],
   "source": [
    "print \"Precision:\", tp/(tp+fp)\n",
    "print \"Recall:\", tp/(tp+fn)\n",
    "print \"Accuracy:\", n_correct/(n_correct+n_incorrect)\n",
    "print tp, fp, fn, n_correct, n_incorrect"
   ]
  },
  {
   "cell_type": "code",
   "execution_count": null,
   "metadata": {
    "collapsed": true
   },
   "outputs": [],
   "source": []
  }
 ],
 "metadata": {
  "kernelspec": {
   "display_name": "Python 2",
   "language": "python",
   "name": "python2"
  },
  "language_info": {
   "codemirror_mode": {
    "name": "ipython",
    "version": 2
   },
   "file_extension": ".py",
   "mimetype": "text/x-python",
   "name": "python",
   "nbconvert_exporter": "python",
   "pygments_lexer": "ipython2",
   "version": "2.7.10"
  }
 },
 "nbformat": 4,
 "nbformat_minor": 0
}
